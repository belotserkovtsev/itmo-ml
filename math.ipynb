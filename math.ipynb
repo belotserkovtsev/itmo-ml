{
  "nbformat": 4,
  "nbformat_minor": 0,
  "metadata": {
    "colab": {
      "name": "Копия 8.Test.ipynb",
      "provenance": [],
      "collapsed_sections": [],
      "toc_visible": true
    },
    "kernelspec": {
      "display_name": "Python 3",
      "language": "python",
      "name": "python3"
    },
    "language_info": {
      "codemirror_mode": {
        "name": "ipython",
        "version": 3
      },
      "file_extension": ".py",
      "mimetype": "text/x-python",
      "name": "python",
      "nbconvert_exporter": "python",
      "pygments_lexer": "ipython3",
      "version": "3.7.4"
    }
  },
  "cells": [
    {
      "cell_type": "markdown",
      "metadata": {
        "id": "BsNwjQDRfmLY"
      },
      "source": [
        "# Задание 1"
      ]
    },
    {
      "cell_type": "markdown",
      "metadata": {
        "id": "wu6r1-s7fmLe"
      },
      "source": [
        "---"
      ]
    },
    {
      "cell_type": "markdown",
      "metadata": {
        "id": "zxRIdPO9gYyX"
      },
      "source": [
        "Напишите программу, которая будет решать систему линейных уравнений вида:\n",
        "\n",
        "\\begin{matrix} a_{11}x+a_{12}y=b_{1}&(1) \\\\ a_{21}x+a_{22}y=b_{2} &(2) \\end{matrix}\n",
        "​\t\n",
        "На вход программа должна принимать 2 строки.\n",
        "\n",
        "Каждая строка содержит 3 действительных числа через пробел: коэффициенты a и b.\n",
        "\n",
        "На выходе программа должна выдавать значения x и y в одну строку через пробел.\n",
        " \n",
        "\n",
        "Примечание 1. Для разделения строки на отдельные элементы используйте функцию split()\n",
        "\n",
        "Примечание 2. В качестве разделителя между целой и дробной частью используйте точку, например 0.2"
      ]
    },
    {
      "cell_type": "code",
      "metadata": {
        "id": "5pi3G_r7ZuVP"
      },
      "source": [
        "import numpy as np"
      ],
      "execution_count": null,
      "outputs": []
    },
    {
      "cell_type": "code",
      "metadata": {
        "id": "6sxlcLbVlrjl",
        "colab": {
          "base_uri": "https://localhost:8080/",
          "height": 111
        },
        "outputId": "8450af99-e2e6-494f-86a0-68585caf6948"
      },
      "source": [
        "inForA = np.array(input(\"Введите коэффициенты (3шт) через запятую\\n\").split(\" \")).astype(float)\n",
        "inForB = np.array(input(\"Введите коэффициенты (3шт) через запятую\\n\").split(\" \")).astype(float)\n",
        "\n",
        "\n",
        "\n",
        "a = np.array([ inForA[0:2], inForB[0:2] ])\n",
        "b = np.array([ inForA[2], inForB[2] ])\n",
        "\n",
        "np.linalg.solve(a, b)"
      ],
      "execution_count": null,
      "outputs": [
        {
          "output_type": "stream",
          "text": [
            "Введите коэффициенты (3шт) через запятую\n",
            "1,2,3\n",
            "Введите коэффициенты (3шт) через запятую\n",
            "3,2,1\n"
          ],
          "name": "stdout"
        },
        {
          "output_type": "execute_result",
          "data": {
            "text/plain": [
              "array([-1.,  2.])"
            ]
          },
          "metadata": {
            "tags": []
          },
          "execution_count": 52
        }
      ]
    },
    {
      "cell_type": "markdown",
      "metadata": {
        "id": "wLoVDMQnfmOv"
      },
      "source": [
        "# Задание 2"
      ]
    },
    {
      "cell_type": "markdown",
      "metadata": {
        "id": "6bmt_YF3fmOw"
      },
      "source": [
        "Напишите функцию `decorate_matrix`, которая получает на вход одно целое число больше единицы. Функция должна возвращать матрицу n на n, у которой на границах стоят единицы, а на всех остальных позициях(если остались позиции не на границах) стоят нули.\n",
        "\n",
        "```\n",
        "# ожидаемый резальтат для аргумента 5\n",
        "array([[1., 1., 1., 1., 1.],\n",
        "[1., 0., 0., 0., 1.],\n",
        "[1., 0., 0., 0., 1.],\n",
        "[1., 0., 0., 0., 1.],\n",
        "[1., 1., 1., 1., 1.]])\n",
        "```\n",
        "\n"
      ]
    },
    {
      "cell_type": "code",
      "metadata": {
        "id": "YyNBhEDnrdk6",
        "colab": {
          "base_uri": "https://localhost:8080/",
          "height": 206
        },
        "outputId": "4e26dbbf-c534-43e1-99e0-4e395122b69a"
      },
      "source": [
        "\n",
        "\n",
        "\n",
        "def decorate_matrix(n):\n",
        "  if n > 1:\n",
        "    a = np.zeros(shape=(n, n), dtype=int)\n",
        "    a[:,0] = 1\n",
        "    a[:,n-1] = 1\n",
        "    a[0,:] = 1\n",
        "    a[n-1,:] = 1\n",
        "    return a\n",
        "\n",
        "print(decorate_matrix(10))"
      ],
      "execution_count": null,
      "outputs": [
        {
          "output_type": "stream",
          "text": [
            "[[1 1 1 1 1 1 1 1 1 1]\n",
            " [1 0 0 0 0 0 0 0 0 1]\n",
            " [1 0 0 0 0 0 0 0 0 1]\n",
            " [1 0 0 0 0 0 0 0 0 1]\n",
            " [1 0 0 0 0 0 0 0 0 1]\n",
            " [1 0 0 0 0 0 0 0 0 1]\n",
            " [1 0 0 0 0 0 0 0 0 1]\n",
            " [1 0 0 0 0 0 0 0 0 1]\n",
            " [1 0 0 0 0 0 0 0 0 1]\n",
            " [1 1 1 1 1 1 1 1 1 1]]\n"
          ],
          "name": "stdout"
        }
      ]
    },
    {
      "cell_type": "markdown",
      "metadata": {
        "id": "75sxny1zSCbl"
      },
      "source": [
        "# Задание 3"
      ]
    },
    {
      "cell_type": "markdown",
      "metadata": {
        "id": "2Xq1tBBAS5UJ"
      },
      "source": [
        "1) реализуйте 2 функции:\n",
        "\n",
        "$f(x) = (x+a)^2 - b$ \n",
        "\n",
        "$g(x) = |f(x)|$\n",
        "\n",
        "2) Найдите аргументы, при которых достигается минимум функций $f(x)$ и $g(x)$\n",
        "\n",
        "Пример. \n",
        "Входные значение: $a=3$ и $b=4$\n",
        "\n",
        "Выходные значения:\n",
        "\n",
        "`-3.0 -1.0`"
      ]
    },
    {
      "cell_type": "code",
      "metadata": {
        "id": "v_vTZMAzSyMv"
      },
      "source": [
        "def F(a, b):\n",
        "  return lambda x: (x+a)**2 - b\n",
        "\n",
        "def G(a, b):\n",
        "  return lambda x: np.abs(F(a,b)(x))"
      ],
      "execution_count": null,
      "outputs": []
    },
    {
      "cell_type": "code",
      "metadata": {
        "id": "H5DQtUtN8dw8",
        "colab": {
          "base_uri": "https://localhost:8080/",
          "height": 187
        },
        "outputId": "3890ac1c-d965-4d39-9a6c-e1bbdac2ca2d"
      },
      "source": [
        "from scipy.optimize import fmin\n",
        "\n",
        "def funcFMin(f, a, b):\n",
        "  finalFunction = f(a, b)\n",
        "  return fmin(finalFunction, x0=0)\n",
        "\n",
        "funcFMin(F, 3, 4), funcFMin(G, 3, 4)"
      ],
      "execution_count": null,
      "outputs": [
        {
          "output_type": "stream",
          "text": [
            "Optimization terminated successfully.\n",
            "         Current function value: -4.000000\n",
            "         Iterations: 28\n",
            "         Function evaluations: 56\n",
            "Optimization terminated successfully.\n",
            "         Current function value: 0.000000\n",
            "         Iterations: 27\n",
            "         Function evaluations: 54\n"
          ],
          "name": "stdout"
        },
        {
          "output_type": "execute_result",
          "data": {
            "text/plain": [
              "(array([-3.]), array([-1.]))"
            ]
          },
          "metadata": {
            "tags": []
          },
          "execution_count": 48
        }
      ]
    },
    {
      "cell_type": "markdown",
      "metadata": {
        "id": "efml9GzISC9Q"
      },
      "source": [
        "# Задание 4"
      ]
    },
    {
      "cell_type": "markdown",
      "metadata": {
        "id": "SDZvKcsTVbAW"
      },
      "source": [
        "Постройте графики для функций из предыдущего задания и отметьте другим цветом на графиках точки найденных минимумов."
      ]
    },
    {
      "cell_type": "code",
      "metadata": {
        "id": "y4itt5PZM3Gc",
        "colab": {
          "base_uri": "https://localhost:8080/",
          "height": 298
        },
        "outputId": "ba2ca08c-6afa-4669-b77d-348f7d96b581"
      },
      "source": [
        "import matplotlib.pyplot as plt\n",
        "\n",
        "x = np.linspace(-10, 10, 20)\n",
        "y = list(map(F(3,4), x))\n",
        "\n",
        "plt.plot(x, y)\n",
        "plt.ylabel(\"Y\")\n",
        "plt.xlabel(\"X\")\n",
        "\n",
        "plt.scatter([-3], [F(3,4)(-3)])"
      ],
      "execution_count": null,
      "outputs": [
        {
          "output_type": "execute_result",
          "data": {
            "text/plain": [
              "<matplotlib.collections.PathCollection at 0x7f16f7bea240>"
            ]
          },
          "metadata": {
            "tags": []
          },
          "execution_count": 256
        },
        {
          "output_type": "display_data",
          "data": {
            "image/png": "[encoded data removed]",
            "text/plain": [
              "<Figure size 432x288 with 1 Axes>"
            ]
          },
          "metadata": {
            "tags": [],
            "needs_background": "light"
          }
        }
      ]
    },
    {
      "cell_type": "code",
      "metadata": {
        "id": "xO_u-frIwJGQ",
        "colab": {
          "base_uri": "https://localhost:8080/",
          "height": 298
        },
        "outputId": "9c3e4d0c-b2a6-4bcf-b6ad-ed64d98b4281"
      },
      "source": [
        "x = np.linspace(-10, 10, 20)\n",
        "y = list(map(G(3,4), x))\n",
        "\n",
        "plt.plot(x, y)\n",
        "plt.ylabel(\"Y\")\n",
        "plt.xlabel(\"X\")\n",
        "\n",
        "plt.scatter([-1], [G(3,4)(-1)])"
      ],
      "execution_count": null,
      "outputs": [
        {
          "output_type": "execute_result",
          "data": {
            "text/plain": [
              "<matplotlib.collections.PathCollection at 0x7f16f7b10e80>"
            ]
          },
          "metadata": {
            "tags": []
          },
          "execution_count": 257
        },
        {
          "output_type": "display_data",
          "data": {
            "image/png": "[encoded data removed]",
            "text/plain": [
              "<Figure size 432x288 with 1 Axes>"
            ]
          },
          "metadata": {
            "tags": [],
            "needs_background": "light"
          }
        }
      ]
    },
    {
      "cell_type": "markdown",
      "metadata": {
        "id": "mrby3EfiSDKJ"
      },
      "source": [
        "# Задание 5"
      ]
    },
    {
      "cell_type": "markdown",
      "metadata": {
        "id": "J6AZ8785VkQd"
      },
      "source": [
        "1000 человек бросают монетку. Каждый бросил 10 раз подряд.\n",
        "\n",
        " 1. Какова вероятность того, что хотя бы у одного человека монетка выпала 10 раз подряд той же самой сторой (орлом или решкой)? \n",
        " 2. Какова вероятность того, что хотя бы у одного человека монетка выпала 8 раз подряд той же самой сторой (орлом или решкой)? \n",
        " 3. Какова вероятность того, что ровно у троих человек из 1000 монетка выпала 10 раз подряд той же самой сторой (орлом или решкой)?"
      ]
    },
    {
      "cell_type": "code",
      "metadata": {
        "id": "RP0-2REvJpv7",
        "colab": {
          "base_uri": "https://localhost:8080/",
          "height": 36
        },
        "outputId": "9c582e8b-2b1d-45eb-c846-561ee15fc597"
      },
      "source": [
        "# 1. \n",
        "# P - выпадет орел или решка 10 раз подряд хотя бы раз из 1000\n",
        "# p - выпадет орел или решка 10 раз подряд\n",
        "\n",
        "def C(n, k):\n",
        "  return np.math.factorial(n) / (np.math.factorial(n-k) * np.math.factorial(k))\n",
        "\n",
        "p = (1/2**10)*2\n",
        "q = 1 - p\n",
        "\n",
        "P = 0\n",
        "\n",
        "for i in range(1, 1001):\n",
        "  P += C(1000, i) * p**i * q**(1000-i)\n",
        "\n",
        "print(P)"
      ],
      "execution_count": null,
      "outputs": [
        {
          "output_type": "stream",
          "text": [
            "0.8584404547322421\n"
          ],
          "name": "stdout"
        }
      ]
    },
    {
      "cell_type": "code",
      "metadata": {
        "id": "ihZ5cBaVaot4",
        "colab": {
          "base_uri": "https://localhost:8080/",
          "height": 36
        },
        "outputId": "8943a479-5669-435b-e37f-579f7b22607b"
      },
      "source": [
        "# 2.\n",
        "# P - выпадет орел или решка 8 раз подряд хотя бы раз из 1000\n",
        "# p - выпадет орел или решка 8 раз подряд\n",
        "\n",
        "p = 1/2**8 * (1/2)**2 * 2 * 2\n",
        "q = 1 - p\n",
        "\n",
        "P = 0\n",
        "\n",
        "for i in range(1, 1001):\n",
        "  P += C(1000, i) * p**i * q**(1000-i)\n",
        "\n",
        "print(P)"
      ],
      "execution_count": null,
      "outputs": [
        {
          "output_type": "stream",
          "text": [
            "0.980037491130566\n"
          ],
          "name": "stdout"
        }
      ]
    },
    {
      "cell_type": "code",
      "metadata": {
        "id": "Bs6kVY8OcJAb",
        "colab": {
          "base_uri": "https://localhost:8080/",
          "height": 36
        },
        "outputId": "27cd7edb-3b00-4622-8270-defd6ce9d49f"
      },
      "source": [
        "# 3. \n",
        "# P - выпадет орел или решка 10 раз подряд ровно у 3\n",
        "# p - выпадет орел или решка 10 раз подряд\n",
        "\n",
        "p = (1/2**10)*2\n",
        "q = 1 - p\n",
        "\n",
        "P = C(1000, 3) * p**3 * q**(997)\n",
        "  \n",
        "\n",
        "print(P)"
      ],
      "execution_count": null,
      "outputs": [
        {
          "output_type": "stream",
          "text": [
            "0.1762873858121736\n"
          ],
          "name": "stdout"
        }
      ]
    }
  ]
}