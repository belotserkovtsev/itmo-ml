{
  "nbformat": 4,
  "nbformat_minor": 0,
  "metadata": {
    "colab": {
      "name": "Копия блокнота \"test 1 neuron logloss.ipynb\"",
      "provenance": [],
      "collapsed_sections": []
    },
    "kernelspec": {
      "display_name": "Python 3",
      "language": "python",
      "name": "python3"
    }
  },
  "cells": [
    {
      "cell_type": "markdown",
      "metadata": {
        "id": "tWTTy4lrZca5"
      },
      "source": [
        "# Обучение нейрона с помощью функции потерь LogLoss"
      ]
    },
    {
      "cell_type": "markdown",
      "metadata": {
        "id": "G_zlIW5BZcbB"
      },
      "source": [
        "<h3 style=\"text-align: center;\"><b>Нейрон с сигмоидой</b></h3>"
      ]
    },
    {
      "cell_type": "markdown",
      "metadata": {
        "id": "QWwW32pCZcbC"
      },
      "source": [
        "Снова рассмотрим нейрон с сигмоидой, то есть $$f(x) = \\sigma(x)=\\frac{1}{1+e^{-x}}$$ "
      ]
    },
    {
      "cell_type": "markdown",
      "metadata": {
        "collapsed": true,
        "id": "mj5QizQIZcbC"
      },
      "source": [
        "Ранее мы установили, что **обучение нейрона с сигмоидой с квадратичной функцией потерь**:  \n",
        "\n",
        "$$MSE(w, x) = \\frac{1}{2n}\\sum_{i=1}^{n} (\\hat{y_i} - y_i)^2 = \\frac{1}{2n}\\sum_{i=1}^{n} (\\sigma(w \\cdot x_i) - y_i)^2$$    \n",
        "\n",
        "где $w \\cdot x_i$ - скалярное произведение, а $\\sigma(w \\cdot x_i) =\\frac{1}{1+e^{-w \\cdot x_i}} $ - сигмоида -- **неэффективно**, то есть мы увидели, что даже за большое количество итераций нейрон предсказывает плохо."
      ]
    },
    {
      "cell_type": "markdown",
      "metadata": {
        "id": "MTgNbravZcbE"
      },
      "source": [
        "Давайте ещё раз взглянем на формулу для градиентного спуска от функции потерь $MSE$ по весам нейрона:"
      ]
    },
    {
      "cell_type": "markdown",
      "metadata": {
        "collapsed": true,
        "id": "RHXjByowZcbE"
      },
      "source": [
        "$$ \\frac{\\partial MSE}{\\partial w} = \\frac{1}{n} X^T (\\sigma(w \\cdot X) - y)\\sigma(w \\cdot X)(1 - \\sigma(w \\cdot X))$$"
      ]
    },
    {
      "cell_type": "markdown",
      "metadata": {
        "id": "ebNqrTV3ZcbF"
      },
      "source": [
        "А теперь смотрим на график сигмоиды:"
      ]
    },
    {
      "cell_type": "markdown",
      "metadata": {
        "id": "366q3EzJZcbH"
      },
      "source": [
        "<img src=\"https://cdn-images-1.medium.com/max/1200/1*IDAnCFoeXqWL7F4u9MJMtA.png\" width=500px height=350px>"
      ]
    },
    {
      "cell_type": "markdown",
      "metadata": {
        "id": "CSEF3EWVZcbJ"
      },
      "source": [
        "**Её значения: числа от 0 до 1.**"
      ]
    },
    {
      "cell_type": "markdown",
      "metadata": {
        "id": "8oOJPcKhZcbJ"
      },
      "source": [
        "Если получше проанализировать формулу, то теперь можно заметить, что, поскольку сигмоида принимает значения между 0 и 1 (а значит (1-$\\sigma$) тоже принимает значения от 0 до 1), то мы умножаем $X^T$ на столбец $(\\sigma(w \\cdot X) - y)$ из чисел от -1 до 1, а потом ещё на столбцы $\\sigma(w \\cdot X)$ и $(1 - \\sigma(w \\cdot X))$ из чисел от 0 до 1. Таким образом в лучшем случае $\\frac{\\partial{Loss}}{\\partial{w}}$ будет столбцом из чисел, порядок которых максимум 0.01 (в среднем, понятно, что если сигмоида выдаёт все 0, то будет 0, если все 1, то тоже 0). После этого мы умножаем на шаг градиентного спуска, который обычно порядка 0.001 или 0.1 максимум. То есть мы вычитаем из весов числа порядка ~0.0001. Медленновато спускаемся, не правда ли? Это называют **проблемой затухающих градиентов**."
      ]
    },
    {
      "cell_type": "markdown",
      "metadata": {
        "id": "hHmUqm5xZcbK"
      },
      "source": [
        "Чтобы избежать эту проблему в задачах классификации, в которых моделью является нейрон с сигмоидной функцией активации, предсказывающий \"вероятности\" принадлженостей к классамиспользуют **LogLoss**:  "
      ]
    },
    {
      "cell_type": "markdown",
      "metadata": {
        "id": "Dbw69trJZcbL"
      },
      "source": [
        "$$J(\\hat{y}, y) = -\\frac{1}{n} \\sum_{i=1}^n y_i \\log(\\hat{y_i}) + (1 - y_i) \\log(1 - \\hat{y_i}) = -\\frac{1}{n} \\sum_{i=1}^n y_i \\log(\\sigma(w \\cdot x_i)) + (1 - y_i) \\log(1 - \\sigma(w \\cdot x_i))$$"
      ]
    },
    {
      "cell_type": "markdown",
      "metadata": {
        "id": "jXcBIx73ZcbM"
      },
      "source": [
        "где, как и прежде, $y$ - столбец $(n, 1)$ из истинных значений классов, а $\\hat{y}$ - столбец $(n, 1)$ из предсказаний нейрона."
      ]
    },
    {
      "cell_type": "code",
      "metadata": {
        "id": "5DBEOhJmZcbN"
      },
      "source": [
        "from matplotlib import pyplot as plt\n",
        "from matplotlib.colors import ListedColormap\n",
        "import numpy as np\n",
        "import pandas as pd\n",
        "\n",
        "from sklearn import preprocessing\n",
        "from sklearn.model_selection import train_test_split "
      ],
      "execution_count": null,
      "outputs": []
    },
    {
      "cell_type": "code",
      "metadata": {
        "id": "_x5CX0RyZcbQ"
      },
      "source": [
        "def loss(y_pred, y):\n",
        "    return -np.mean(y * np.log(y_pred) + (1 - y) * np.log(1 - y_pred))"
      ],
      "execution_count": null,
      "outputs": []
    },
    {
      "cell_type": "markdown",
      "metadata": {
        "id": "raPTihU6ZcbT"
      },
      "source": [
        "Отметим, что сейчас речь идёт именно о **бинарной классификации (на два класса)**, в многоклассовой классификации используется функция потерь под названием *кросс-энтропия*, которая является обобщением LogLoss'а на случай нескольких классов."
      ]
    },
    {
      "cell_type": "markdown",
      "metadata": {
        "id": "B0Ky5xUfvOzh"
      },
      "source": [
        "Почему же теперь всё будет лучше? Раньше была проблема умножения маленьких чисел в градиенте. Давайте посмотрим, что теперь:"
      ]
    },
    {
      "cell_type": "markdown",
      "metadata": {
        "id": "qxs0zXfPvOzh"
      },
      "source": [
        "* Для веса $w_j$:"
      ]
    },
    {
      "cell_type": "markdown",
      "metadata": {
        "id": "hH6AujkCvOzj"
      },
      "source": [
        "$$ \\frac{\\partial Loss}{\\partial w_j} = \n",
        "-\\frac{1}{n} \\sum_{i=1}^n \\left(\\frac{y_i}{\\sigma(w \\cdot x_i)} - \\frac{1 - y_i}{1 - \\sigma(w \\cdot x_i)}\\right)(\\sigma(w \\cdot x_i))_{w_j}' = -\\frac{1}{n} \\sum_{i=1}^n \\left(\\frac{y_i}{\\sigma(w \\cdot x_i)} - \\frac{1 - y_i}{1 - \\sigma(w \\cdot x_i)}\\right)\\sigma(w \\cdot x_i)(1 - \\sigma(w \\cdot x_i))x_{ij} = $$\n",
        "$$-\\frac{1}{n} \\sum_{i=1}^n \\left(y_i - \\sigma(w \\cdot x_i)\\right)x_{ij}$$"
      ]
    },
    {
      "cell_type": "markdown",
      "metadata": {
        "id": "dYOygL-zvOzk"
      },
      "source": [
        "* Градиент $Loss$'а по вектору весов -- это вектор, $j$-ая компонента которого равна $\\frac{\\partial Loss}{\\partial w_j}$ (помним, что весов всего $m$):"
      ]
    },
    {
      "cell_type": "markdown",
      "metadata": {
        "id": "ItJoyReVvOzl"
      },
      "source": [
        "$$\\begin{align}\n",
        "    \\frac{\\partial Loss}{\\partial w} &= \\begin{bmatrix}\n",
        "           -\\frac{1}{n} \\sum_{i=1}^n \\left(y_i - \\sigma(w \\cdot x_i)\\right)x_{i1} \\\\\n",
        "           -\\frac{1}{n} \\sum_{i=1}^n \\left(y_i - \\sigma(w \\cdot x_i)\\right)x_{i2} \\\\\n",
        "           \\vdots \\\\\n",
        "           -\\frac{1}{n} \\sum_{i=1}^n \\left(y_i - \\sigma(w \\cdot x_i)\\right)x_{im}\n",
        "         \\end{bmatrix}\n",
        "\\end{align}=\\frac{1}{n} X^T \\left(\\hat{y} - y\\right)$$"
      ]
    },
    {
      "cell_type": "markdown",
      "metadata": {
        "id": "r2xKo6NzvOzm"
      },
      "source": [
        "По аналогии с $w_j$ выведите формулу для свободного члена (bias'а) $b$ (*hint*: можно считать, что при нём есть признак $x_{i0}=1$ на всех $i$):"
      ]
    },
    {
      "cell_type": "code",
      "metadata": {
        "id": "OKAs7R43vOzr"
      },
      "source": [
        "# <Вывод формулы здесь>\n",
        "# self.b = self.b - learning_rate * np.mean(sigma - y)"
      ],
      "execution_count": null,
      "outputs": []
    },
    {
      "cell_type": "markdown",
      "metadata": {
        "id": "7HQALb8XZcbU"
      },
      "source": [
        "Получили новое правило для обновления $w$ и $b$. "
      ]
    },
    {
      "cell_type": "code",
      "metadata": {
        "id": "xL2gqg27ZcbW"
      },
      "source": [
        "def sigmoid(x):\n",
        "    \"\"\"Сигмоидальная функция\"\"\"\n",
        "    return 1 / (1 + np.exp(-x))"
      ],
      "execution_count": null,
      "outputs": []
    },
    {
      "cell_type": "markdown",
      "metadata": {
        "id": "ukZ-iJNRZcbY"
      },
      "source": [
        "Реализуйте нейрон с функцией потерь LogLoss:"
      ]
    },
    {
      "cell_type": "code",
      "metadata": {
        "id": "TdnkoJDfZcba"
      },
      "source": [
        "class Neuron:\n",
        "    def __init__(self, w=None, b=0):\n",
        "        \"\"\"\n",
        "        :param: w -- вектор весов\n",
        "        :param: b -- смещение\n",
        "        \"\"\"\n",
        "        # пока что мы не знаем размер матрицы X, а значит не знаем, сколько будет весов\n",
        "        self.w = w\n",
        "        self.b = b\n",
        "\n",
        "        \n",
        "    def activate(self, x):\n",
        "        return sigmoid(x)\n",
        "        \n",
        "        \n",
        "    def forward_pass(self, X):\n",
        "        \"\"\"\n",
        "        Рассчитывает ответ нейрон при предъявлении набора объектов\n",
        "        :param: X -- матрица примеров размера (n, m), каждая строка - отдельный объект\n",
        "        :return: вектор размера (n, 1) из нулей и единиц с ответами нейрон \n",
        "        \"\"\"\n",
        "        n = X.shape[0]\n",
        "        y_pred = np.zeros((n, 1))  # y_pred == y_predicted - предсказанные классы\n",
        "        y_pred = self.activate(X @ self.w.reshape(X.shape[1], 1) + self.b)\n",
        "        return y_pred.reshape(-1, 1)\n",
        "    \n",
        "    \n",
        "    def backward_pass(self, X, y, y_pred, learning_rate = 0.1):\n",
        "        \"\"\"\n",
        "        Обновляет значения весов нейрон в соответствии с этим объектом\n",
        "        :param: X -- матрица входов размера (n, m)\n",
        "                y -- вектор правильных ответов размера (n, 1)\n",
        "                learning_rate - \"скорость обучения\" (символ alpha в формулах выше)\n",
        "        В этом методе ничего возвращать не нужно, только правильно поменять веса\n",
        "        с помощью градиентного спуска.\n",
        "        \"\"\"\n",
        "        n = len(y)\n",
        "        y = np.array(y).reshape(-1, 1)\n",
        "        sigma = self.activate(X @ self.w + self.b)\n",
        "        # print(sigma)\n",
        "        # print(X.T @ (sigma - y_pred) / n)\n",
        "        self.w = self.w - learning_rate * (X.T @ (sigma - y)) / n\n",
        "        self.b = self.b - learning_rate * np.mean(sigma - y)\n",
        "    \n",
        "    \n",
        "    def fit(self, X, y, num_epochs=5000, learning_rate=0.1):\n",
        "        \"\"\"\n",
        "        Спускаемся в минимум\n",
        "        :param: X -- матрица объектов размера (n, m)\n",
        "                y -- вектор правильных ответов размера (n, 1)\n",
        "                num_epochs -- количество итераций обучения\n",
        "        :return: loss_values -- вектор значений функции потерь\n",
        "        \"\"\"\n",
        "        self.w = np.zeros((X.shape[1], 1))  # столбец (m, 1)\n",
        "        self.b = 0  # смещение\n",
        "        loss_values = []  # значения функции потерь на различных итерациях обновления весов\n",
        "        \n",
        "        for i in range(num_epochs):\n",
        "            # предсказания с текущими весами\n",
        "            y_pred = self.forward_pass(X)\n",
        "            # считаем функцию потерь с текущими весами\n",
        "            loss_values.append(loss(y_pred, y))\n",
        "            # обновляем веса в соответсвие с тем, где ошиблись раньше\n",
        "            self.backward_pass(X, y, y_pred, learning_rate)\n",
        "        \n",
        "        return loss_values"
      ],
      "execution_count": null,
      "outputs": []
    },
    {
      "cell_type": "markdown",
      "metadata": {
        "id": "-RQRPI50Zcbb"
      },
      "source": [
        "<h3 style=\"text-align: center;\"><b>Тестирование</b></h3>"
      ]
    },
    {
      "cell_type": "markdown",
      "metadata": {
        "id": "FBwpsQc0Zcbc"
      },
      "source": [
        "Протестируем нейрон, обученный с новой функцией потерь, на тех же данных, что и в предыдущем ноутбуке:"
      ]
    },
    {
      "cell_type": "markdown",
      "metadata": {
        "id": "JVCPAAuXZcbd"
      },
      "source": [
        "**Проверка forward_pass()**"
      ]
    },
    {
      "cell_type": "code",
      "metadata": {
        "id": "hbuAzv_YZcbe",
        "colab": {
          "base_uri": "https://localhost:8080/"
        },
        "outputId": "1d691115-a1dd-4429-9c56-cb1376cfec84"
      },
      "source": [
        "w = np.array([1., 2.]).reshape(2, 1)\n",
        "b = 2.\n",
        "X = np.array([[1., 3.],\n",
        "              [2., 4.],\n",
        "              [-1., -3.2]])\n",
        "\n",
        "neuron = Neuron(w, b)\n",
        "y_pred = neuron.forward_pass(X)\n",
        "print (\"y_pred = \" + str(y_pred))"
      ],
      "execution_count": null,
      "outputs": [
        {
          "output_type": "stream",
          "text": [
            "y_pred = [[0.99987661]\n",
            " [0.99999386]\n",
            " [0.00449627]]\n"
          ],
          "name": "stdout"
        }
      ]
    },
    {
      "cell_type": "markdown",
      "metadata": {
        "id": "eL6viEHNZcbi"
      },
      "source": [
        "**Проверка backward_pass()**"
      ]
    },
    {
      "cell_type": "code",
      "metadata": {
        "id": "_4F8zActZcbk"
      },
      "source": [
        "y = np.array([1, 0, 1]).reshape(3, 1)"
      ],
      "execution_count": null,
      "outputs": []
    },
    {
      "cell_type": "code",
      "metadata": {
        "id": "ILDcoLqwZcbm",
        "colab": {
          "base_uri": "https://localhost:8080/"
        },
        "outputId": "d1271667-6f58-4726-feb7-d67c8b8fb97a"
      },
      "source": [
        "neuron.backward_pass(X, y, y_pred)\n",
        "\n",
        "print (\"w = \" + str(neuron.w))\n",
        "print (\"b = \" + str(neuron.b))"
      ],
      "execution_count": null,
      "outputs": [
        {
          "output_type": "stream",
          "text": [
            "w = [[0.9001544 ]\n",
            " [1.76049276]]\n",
            "b = 1.9998544421863216\n"
          ],
          "name": "stdout"
        }
      ]
    },
    {
      "cell_type": "markdown",
      "metadata": {
        "id": "_1ZRdKcfZcbq"
      },
      "source": [
        "Проверьте на наборах данных \"яблоки и груши\" и \"голос\"."
      ]
    },
    {
      "cell_type": "code",
      "metadata": {
        "id": "JmldNxQW58Kq"
      },
      "source": [
        "data = pd.read_csv(filepath_or_buffer = \"apples_pears.csv\")"
      ],
      "execution_count": null,
      "outputs": []
    },
    {
      "cell_type": "code",
      "metadata": {
        "id": "JzVwDkzG6DBX"
      },
      "source": [
        "X = data.iloc[:,:2].values  # матрица объекты-признаки\n",
        "y = data['target'].values.reshape((-1, 1))  # классы (столбец из нулей и единиц)"
      ],
      "execution_count": null,
      "outputs": []
    },
    {
      "cell_type": "code",
      "metadata": {
        "colab": {
          "base_uri": "https://localhost:8080/",
          "height": 519
        },
        "id": "gs7DQBv2lsYW",
        "outputId": "982e84c3-c6aa-4c40-9e68-f49588dfb70b"
      },
      "source": [
        "neuron = Neuron()\n",
        "Loss_values = neuron.fit(X, y, num_epochs=50000)\n",
        "\n",
        "plt.figure(figsize=(10, 8))\n",
        "plt.plot(Loss_values)\n",
        "plt.title('Функция потерь', fontsize=15)\n",
        "plt.xlabel('номер итерации', fontsize=14)\n",
        "plt.ylabel('$Loss(\\hat{y}, y)$', fontsize=14)\n",
        "plt.show()"
      ],
      "execution_count": null,
      "outputs": [
        {
          "output_type": "display_data",
          "data": {
            "image/png": "[encoded data removed]",
            "text/plain": [
              "<Figure size 720x576 with 1 Axes>"
            ]
          },
          "metadata": {
            "tags": [],
            "needs_background": "light"
          }
        }
      ]
    },
    {
      "cell_type": "code",
      "metadata": {
        "colab": {
          "base_uri": "https://localhost:8080/",
          "height": 520
        },
        "id": "UulhUA-Y4KMs",
        "outputId": "85140013-689d-4bd9-9b93-5c0d4fde36d8"
      },
      "source": [
        "plt.figure(figsize=(10, 8))\n",
        "plt.scatter(data.iloc[:, 0], data.iloc[:, 1], c=np.array(neuron.forward_pass(X) > 0.5).ravel(), cmap='spring')\n",
        "plt.title('Яблоки и груши', fontsize=15)\n",
        "plt.xlabel('симметричность', fontsize=14)\n",
        "plt.ylabel('желтизна', fontsize=14)\n",
        "plt.show();"
      ],
      "execution_count": null,
      "outputs": [
        {
          "output_type": "display_data",
          "data": {
            "image/png": "[encoded data removed]",
            "text/plain": [
              "<Figure size 720x576 with 1 Axes>"
            ]
          },
          "metadata": {
            "tags": [],
            "needs_background": "light"
          }
        }
      ]
    },
    {
      "cell_type": "code",
      "metadata": {
        "id": "bJVu0MckgE2t"
      },
      "source": [
        "data = pd.read_csv(filepath_or_buffer = \"voice.csv\")"
      ],
      "execution_count": null,
      "outputs": []
    },
    {
      "cell_type": "code",
      "metadata": {
        "colab": {
          "base_uri": "https://localhost:8080/",
          "height": 226
        },
        "id": "yezs3OECgTm1",
        "outputId": "58f74e03-06df-4e5e-a41d-2f5f5b267054"
      },
      "source": [
        "data.head()"
      ],
      "execution_count": null,
      "outputs": [
        {
          "output_type": "execute_result",
          "data": {
            "text/html": [
              "<div>\n",
              "<style scoped>\n",
              "    .dataframe tbody tr th:only-of-type {\n",
              "        vertical-align: middle;\n",
              "    }\n",
              "\n",
              "    .dataframe tbody tr th {\n",
              "        vertical-align: top;\n",
              "    }\n",
              "\n",
              "    .dataframe thead th {\n",
              "        text-align: right;\n",
              "    }\n",
              "</style>\n",
              "<table border=\"1\" class=\"dataframe\">\n",
              "  <thead>\n",
              "    <tr style=\"text-align: right;\">\n",
              "      <th></th>\n",
              "      <th>meanfreq</th>\n",
              "      <th>sd</th>\n",
              "      <th>median</th>\n",
              "      <th>Q25</th>\n",
              "      <th>Q75</th>\n",
              "      <th>IQR</th>\n",
              "      <th>skew</th>\n",
              "      <th>kurt</th>\n",
              "      <th>sp.ent</th>\n",
              "      <th>sfm</th>\n",
              "      <th>mode</th>\n",
              "      <th>centroid</th>\n",
              "      <th>meanfun</th>\n",
              "      <th>minfun</th>\n",
              "      <th>maxfun</th>\n",
              "      <th>meandom</th>\n",
              "      <th>mindom</th>\n",
              "      <th>maxdom</th>\n",
              "      <th>dfrange</th>\n",
              "      <th>modindx</th>\n",
              "      <th>label</th>\n",
              "    </tr>\n",
              "  </thead>\n",
              "  <tbody>\n",
              "    <tr>\n",
              "      <th>0</th>\n",
              "      <td>0.059781</td>\n",
              "      <td>0.064241</td>\n",
              "      <td>0.032027</td>\n",
              "      <td>0.015071</td>\n",
              "      <td>0.090193</td>\n",
              "      <td>0.075122</td>\n",
              "      <td>12.863462</td>\n",
              "      <td>274.402906</td>\n",
              "      <td>0.893369</td>\n",
              "      <td>0.491918</td>\n",
              "      <td>0.000000</td>\n",
              "      <td>0.059781</td>\n",
              "      <td>0.084279</td>\n",
              "      <td>0.015702</td>\n",
              "      <td>0.275862</td>\n",
              "      <td>0.007812</td>\n",
              "      <td>0.007812</td>\n",
              "      <td>0.007812</td>\n",
              "      <td>0.000000</td>\n",
              "      <td>0.000000</td>\n",
              "      <td>male</td>\n",
              "    </tr>\n",
              "    <tr>\n",
              "      <th>1</th>\n",
              "      <td>0.066009</td>\n",
              "      <td>0.067310</td>\n",
              "      <td>0.040229</td>\n",
              "      <td>0.019414</td>\n",
              "      <td>0.092666</td>\n",
              "      <td>0.073252</td>\n",
              "      <td>22.423285</td>\n",
              "      <td>634.613855</td>\n",
              "      <td>0.892193</td>\n",
              "      <td>0.513724</td>\n",
              "      <td>0.000000</td>\n",
              "      <td>0.066009</td>\n",
              "      <td>0.107937</td>\n",
              "      <td>0.015826</td>\n",
              "      <td>0.250000</td>\n",
              "      <td>0.009014</td>\n",
              "      <td>0.007812</td>\n",
              "      <td>0.054688</td>\n",
              "      <td>0.046875</td>\n",
              "      <td>0.052632</td>\n",
              "      <td>male</td>\n",
              "    </tr>\n",
              "    <tr>\n",
              "      <th>2</th>\n",
              "      <td>0.077316</td>\n",
              "      <td>0.083829</td>\n",
              "      <td>0.036718</td>\n",
              "      <td>0.008701</td>\n",
              "      <td>0.131908</td>\n",
              "      <td>0.123207</td>\n",
              "      <td>30.757155</td>\n",
              "      <td>1024.927705</td>\n",
              "      <td>0.846389</td>\n",
              "      <td>0.478905</td>\n",
              "      <td>0.000000</td>\n",
              "      <td>0.077316</td>\n",
              "      <td>0.098706</td>\n",
              "      <td>0.015656</td>\n",
              "      <td>0.271186</td>\n",
              "      <td>0.007990</td>\n",
              "      <td>0.007812</td>\n",
              "      <td>0.015625</td>\n",
              "      <td>0.007812</td>\n",
              "      <td>0.046512</td>\n",
              "      <td>male</td>\n",
              "    </tr>\n",
              "    <tr>\n",
              "      <th>3</th>\n",
              "      <td>0.151228</td>\n",
              "      <td>0.072111</td>\n",
              "      <td>0.158011</td>\n",
              "      <td>0.096582</td>\n",
              "      <td>0.207955</td>\n",
              "      <td>0.111374</td>\n",
              "      <td>1.232831</td>\n",
              "      <td>4.177296</td>\n",
              "      <td>0.963322</td>\n",
              "      <td>0.727232</td>\n",
              "      <td>0.083878</td>\n",
              "      <td>0.151228</td>\n",
              "      <td>0.088965</td>\n",
              "      <td>0.017798</td>\n",
              "      <td>0.250000</td>\n",
              "      <td>0.201497</td>\n",
              "      <td>0.007812</td>\n",
              "      <td>0.562500</td>\n",
              "      <td>0.554688</td>\n",
              "      <td>0.247119</td>\n",
              "      <td>male</td>\n",
              "    </tr>\n",
              "    <tr>\n",
              "      <th>4</th>\n",
              "      <td>0.135120</td>\n",
              "      <td>0.079146</td>\n",
              "      <td>0.124656</td>\n",
              "      <td>0.078720</td>\n",
              "      <td>0.206045</td>\n",
              "      <td>0.127325</td>\n",
              "      <td>1.101174</td>\n",
              "      <td>4.333713</td>\n",
              "      <td>0.971955</td>\n",
              "      <td>0.783568</td>\n",
              "      <td>0.104261</td>\n",
              "      <td>0.135120</td>\n",
              "      <td>0.106398</td>\n",
              "      <td>0.016931</td>\n",
              "      <td>0.266667</td>\n",
              "      <td>0.712812</td>\n",
              "      <td>0.007812</td>\n",
              "      <td>5.484375</td>\n",
              "      <td>5.476562</td>\n",
              "      <td>0.208274</td>\n",
              "      <td>male</td>\n",
              "    </tr>\n",
              "  </tbody>\n",
              "</table>\n",
              "</div>"
            ],
            "text/plain": [
              "   meanfreq        sd    median       Q25  ...    maxdom   dfrange   modindx  label\n",
              "0  0.059781  0.064241  0.032027  0.015071  ...  0.007812  0.000000  0.000000   male\n",
              "1  0.066009  0.067310  0.040229  0.019414  ...  0.054688  0.046875  0.052632   male\n",
              "2  0.077316  0.083829  0.036718  0.008701  ...  0.015625  0.007812  0.046512   male\n",
              "3  0.151228  0.072111  0.158011  0.096582  ...  0.562500  0.554688  0.247119   male\n",
              "4  0.135120  0.079146  0.124656  0.078720  ...  5.484375  5.476562  0.208274   male\n",
              "\n",
              "[5 rows x 21 columns]"
            ]
          },
          "metadata": {
            "tags": []
          },
          "execution_count": 96
        }
      ]
    },
    {
      "cell_type": "code",
      "metadata": {
        "id": "oxkHMW28icU0"
      },
      "source": [
        "le = preprocessing.LabelEncoder()\n",
        "data.label = le.fit_transform(data.label)"
      ],
      "execution_count": null,
      "outputs": []
    },
    {
      "cell_type": "code",
      "metadata": {
        "id": "TO0CZZFAgcCH"
      },
      "source": [
        "x_train, x_test, y_train, y_test = train_test_split(data.drop(\"label\", axis=1), data.label, train_size = 0.7)"
      ],
      "execution_count": null,
      "outputs": []
    },
    {
      "cell_type": "code",
      "metadata": {
        "id": "QGaLHrncp4tt"
      },
      "source": [
        "x_train = np.array(x_train)\n",
        "y_train = np.array(y_train).reshape((-1, 1))"
      ],
      "execution_count": null,
      "outputs": []
    },
    {
      "cell_type": "code",
      "metadata": {
        "id": "rpZJtsMot1Mh"
      },
      "source": [
        "# Min and max value for each row\n",
        "def dataset_minmax(dataset):\n",
        "\tminmax = list()\n",
        "\tfor i in range(len(dataset[0])):\n",
        "\t\tcol_values = [row[i] for row in dataset]\n",
        "\t\tvalue_min = min(col_values)\n",
        "\t\tvalue_max = max(col_values)\n",
        "\t\tminmax.append([value_min, value_max])\n",
        "\treturn minmax\n",
        "\n",
        "# Each row in range from 0-1\n",
        "def normalize_dataset(dataset, minmax):\n",
        "\tfor row in dataset:\n",
        "\t\tfor i in range(len(row)):\n",
        "\t\t\trow[i] = (row[i] - minmax[i][0]) / (minmax[i][1] - minmax[i][0])"
      ],
      "execution_count": null,
      "outputs": []
    },
    {
      "cell_type": "code",
      "metadata": {
        "id": "bsLH-ogstwPs"
      },
      "source": [
        "minmax = dataset_minmax(x_train)\n",
        "normalize_dataset(x_train, minmax)"
      ],
      "execution_count": null,
      "outputs": []
    },
    {
      "cell_type": "code",
      "metadata": {
        "colab": {
          "base_uri": "https://localhost:8080/"
        },
        "id": "GtAFl9bWt6WO",
        "outputId": "fc23382b-8451-47bf-ea5e-f2c7178aa94f"
      },
      "source": [
        "x_train[:2]"
      ],
      "execution_count": null,
      "outputs": [
        {
          "output_type": "execute_result",
          "data": {
            "text/plain": [
              "array([[0.94568555, 0.20020954, 0.95643005, 0.93005891, 0.93373959,\n",
              "        0.06631425, 0.08502019, 0.00905005, 0.27013651, 0.19125991,\n",
              "        0.89968153, 0.94568555, 0.66647861, 0.19947202, 0.99974914,\n",
              "        0.47373648, 0.04086022, 0.47891351, 0.47854077, 0.13137237],\n",
              "       [0.74606148, 0.2162008 , 0.73235054, 0.72489079, 0.78870419,\n",
              "        0.15910426, 0.04360704, 0.002626  , 0.56835026, 0.28380059,\n",
              "        0.68581907, 0.74606148, 0.57322097, 0.2038406 , 0.99974914,\n",
              "        0.56755683, 0.04086022, 0.35025018, 0.34978541, 0.18417754]])"
            ]
          },
          "metadata": {
            "tags": []
          },
          "execution_count": 105
        }
      ]
    },
    {
      "cell_type": "code",
      "metadata": {
        "colab": {
          "base_uri": "https://localhost:8080/",
          "height": 519
        },
        "id": "yZm7KzyGhM9l",
        "outputId": "b0f3b754-c01c-4dce-e766-c13b8412c8e4"
      },
      "source": [
        "neuron = Neuron()\n",
        "Loss_values = neuron.fit(x_train, y_train, num_epochs = 50000 ,learning_rate = 0.1)\n",
        "\n",
        "plt.figure(figsize=(10, 8))\n",
        "plt.plot(Loss_values)\n",
        "plt.title('Функция потерь', fontsize=15)\n",
        "plt.xlabel('номер итерации', fontsize=14)\n",
        "plt.ylabel('$Loss(\\hat{y}, y)$', fontsize=14)\n",
        "plt.show()"
      ],
      "execution_count": null,
      "outputs": [
        {
          "output_type": "display_data",
          "data": {
            "image/png": "[encoded data removed]",
            "text/plain": [
              "<Figure size 720x576 with 1 Axes>"
            ]
          },
          "metadata": {
            "tags": [],
            "needs_background": "light"
          }
        }
      ]
    }
  ]
}