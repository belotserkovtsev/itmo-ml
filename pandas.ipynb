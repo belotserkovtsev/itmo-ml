{
  "nbformat": 4,
  "nbformat_minor": 0,
  "metadata": {
    "hide_input": false,
    "kernelspec": {
      "display_name": "Python 3",
      "language": "python",
      "name": "python3"
    },
    "language_info": {
      "codemirror_mode": {
        "name": "ipython",
        "version": 3
      },
      "file_extension": ".py",
      "mimetype": "text/x-python",
      "name": "python",
      "nbconvert_exporter": "python",
      "pygments_lexer": "ipython3",
      "version": "3.7.1"
    },
    "toc": {
      "base_numbering": 1,
      "nav_menu": {},
      "number_sections": true,
      "sideBar": true,
      "skip_h1_title": false,
      "title_cell": "Table of Contents",
      "title_sidebar": "Contents",
      "toc_cell": true,
      "toc_position": {},
      "toc_section_display": true,
      "toc_window_display": false
    },
    "varInspector": {
      "cols": {
        "lenName": 16,
        "lenType": 16,
        "lenVar": 40
      },
      "kernels_config": {
        "python": {
          "delete_cmd_postfix": "",
          "delete_cmd_prefix": "del ",
          "library": "var_list.py",
          "varRefreshCmd": "print(var_dic_list())"
        },
        "r": {
          "delete_cmd_postfix": ") ",
          "delete_cmd_prefix": "rm(",
          "library": "var_list.r",
          "varRefreshCmd": "cat(var_dic_list()) "
        }
      },
      "types_to_exclude": [
        "module",
        "function",
        "builtin_function_or_method",
        "instance",
        "_Feature"
      ],
      "window_display": false
    },
    "colab": {
      "name": "Копия Test_Pandas.ipynb",
      "provenance": [],
      "collapsed_sections": [
        "BYrJ5b_E8Jee",
        "BYXwM4l3QDBu",
        "W-LaVwRdR3UB",
        "aGaPkQkVSvl8"
      ],
      "toc_visible": true
    }
  },
  "cells": [
    {
      "cell_type": "code",
      "metadata": {
        "ExecuteTime": {
          "end_time": "2020-04-23T10:16:05.965275Z",
          "start_time": "2020-04-23T10:16:05.312704Z"
        },
        "id": "bZ7J0si68JdT"
      },
      "source": [
        "import pandas as pd\n",
        "import numpy as np"
      ],
      "execution_count": null,
      "outputs": []
    },
    {
      "cell_type": "markdown",
      "metadata": {
        "id": "xjvL0IIG8Jd0"
      },
      "source": [
        "## Задание 0\n"
      ]
    },
    {
      "cell_type": "markdown",
      "metadata": {
        "id": "yaSxXHvxO0qo"
      },
      "source": [
        "Для всех  заданий будем использовать обезличенные транзакционные банковские данные. Для этого считайте в переменные **tr_mcc_codes, tr_types, transactions и gender_train** из одноимённых таблиц из папки data. Для таблицы transactions используйте только первые n=1000000 строк. Обратите внимание на разделители внутри каждого из файлов - они могут различаться!"
      ]
    },
    {
      "cell_type": "markdown",
      "metadata": {
        "id": "oP3lX9xC8Jd8"
      },
      "source": [
        "###  Описание данных\n",
        "#### Таблица ```transactions.csv```\n",
        "##### Описание\n",
        "Таблица содержит историю транзакций клиентов банка за один год и три месяца.\n",
        "\n",
        "##### Формат данных\n",
        "\n",
        "```\n",
        "customer_id,tr_datetime,mcc_code,tr_type,amount,term_id\n",
        "111111,15 01:40:52,1111,1000,-5224,111111\n",
        "111112,15 15:18:32,3333,2000,-100,11122233\n",
        "...\n",
        "```\n",
        "##### Описание полей\n",
        "\n",
        " - ```customer_id``` — идентификатор клиента;\n",
        " - ```tr_datetime``` — день и время совершения транзакции (дни нумеруются с начала данных);\n",
        " - ```mcc_code``` — mcc-код транзакции;\n",
        " - ```tr_type``` — тип транзакции;\n",
        " - ```amount``` — сумма транзакции в условных единицах со знаком; ```+``` — начисление средств клиенту (приходная транзакция), ```-``` — списание средств (расходная транзакция);\n",
        " - ```term_id``` — идентификатор терминала;\n",
        "\n",
        "\n",
        "#### Таблица ```gender_train.csv```\n",
        "\n",
        "##### Описание\n",
        "Данная таблица содержит информацию по полу для части клиентов, для которых он известен. Для остальных клиентов пол неизвестен.\n",
        "\n",
        "##### Формат данных\n",
        "```\n",
        "customer_id,gender\n",
        "111111,0\n",
        "111112,1\n",
        "...\n",
        "```\n",
        "\n",
        "##### Описание полей\n",
        " - ```customer_id``` — идентификатор клиента;\n",
        " - ```gender``` — пол клиента;\n",
        "\n",
        "### Таблица ```tr_mcc_codes.csv```\n",
        "\n",
        "##### Описание\n",
        "Данная таблица содержит описание mcc-кодов транзакций.\n",
        "\n",
        "##### Формат данных\n",
        "```\n",
        "mcc_code;mcc_description\n",
        "1000;словесное описание mcc-кода 1000\n",
        "2000;словесное описание mcc-кода 2000\n",
        "...\n",
        "```\n",
        "\n",
        "##### Описание полей\n",
        " - ```mcc_code``` – mcc-код транзакции;\n",
        " - ```mcc_description``` — описание mcc-кода транзакции.\n",
        "\n",
        "#### Таблица ```tr_types.csv```\n",
        "\n",
        "##### Описание\n",
        "Данная таблица содержит описание типов транзакций.\n",
        "\n",
        "##### Формат данных\n",
        "```\n",
        "tr_type;tr_description\n",
        "1000;словесное описание типа транзакции 1000\n",
        "2000;словесное описание типа транзакции 2000\n",
        "...\n",
        "```\n",
        "\n",
        "##### Описание полей\n",
        " - ```tr_type``` – тип транзакции;\n",
        " - ```tr_description``` — описание типа транзакции;"
      ]
    },
    {
      "cell_type": "markdown",
      "metadata": {
        "id": "04CYsBKz8JeB"
      },
      "source": [
        "## Задание 1\n",
        "\n"
      ]
    },
    {
      "cell_type": "code",
      "metadata": {
        "id": "TEfAhgrqpKZL",
        "colab": {
          "base_uri": "https://localhost:8080/",
          "height": 36
        },
        "outputId": "bca67af1-1d44-4d6b-a972-4213ba50a335"
      },
      "source": [
        "from google.colab import drive\n",
        "drive.mount('/content/drive')"
      ],
      "execution_count": null,
      "outputs": [
        {
          "output_type": "stream",
          "text": [
            "Mounted at /content/drive\n"
          ],
          "name": "stdout"
        }
      ]
    },
    {
      "cell_type": "code",
      "metadata": {
        "id": "mfPuaIytqCz-",
        "colab": {
          "base_uri": "https://localhost:8080/",
          "height": 424
        },
        "outputId": "8c71bbe7-16a0-46ce-c7ec-57cf04db206c"
      },
      "source": [
        "transactions = pd.read_csv(filepath_or_buffer = \"data/transactions.csv\",\n",
        "            sep = ',',\n",
        "            nrows = 1000000)\n",
        "transactions"
      ],
      "execution_count": null,
      "outputs": [
        {
          "output_type": "execute_result",
          "data": {
            "text/html": [
              "<div>\n",
              "<style scoped>\n",
              "    .dataframe tbody tr th:only-of-type {\n",
              "        vertical-align: middle;\n",
              "    }\n",
              "\n",
              "    .dataframe tbody tr th {\n",
              "        vertical-align: top;\n",
              "    }\n",
              "\n",
              "    .dataframe thead th {\n",
              "        text-align: right;\n",
              "    }\n",
              "</style>\n",
              "<table border=\"1\" class=\"dataframe\">\n",
              "  <thead>\n",
              "    <tr style=\"text-align: right;\">\n",
              "      <th></th>\n",
              "      <th>customer_id</th>\n",
              "      <th>tr_datetime</th>\n",
              "      <th>mcc_code</th>\n",
              "      <th>tr_type</th>\n",
              "      <th>amount</th>\n",
              "      <th>term_id</th>\n",
              "    </tr>\n",
              "  </thead>\n",
              "  <tbody>\n",
              "    <tr>\n",
              "      <th>0</th>\n",
              "      <td>39026145</td>\n",
              "      <td>0 10:23:26</td>\n",
              "      <td>4814</td>\n",
              "      <td>1030</td>\n",
              "      <td>-2245.92</td>\n",
              "      <td>NaN</td>\n",
              "    </tr>\n",
              "    <tr>\n",
              "      <th>1</th>\n",
              "      <td>39026145</td>\n",
              "      <td>1 10:19:29</td>\n",
              "      <td>6011</td>\n",
              "      <td>7010</td>\n",
              "      <td>56147.89</td>\n",
              "      <td>NaN</td>\n",
              "    </tr>\n",
              "    <tr>\n",
              "      <th>2</th>\n",
              "      <td>39026145</td>\n",
              "      <td>1 10:20:56</td>\n",
              "      <td>4829</td>\n",
              "      <td>2330</td>\n",
              "      <td>-56147.89</td>\n",
              "      <td>NaN</td>\n",
              "    </tr>\n",
              "    <tr>\n",
              "      <th>3</th>\n",
              "      <td>39026145</td>\n",
              "      <td>1 10:39:54</td>\n",
              "      <td>5499</td>\n",
              "      <td>1010</td>\n",
              "      <td>-1392.47</td>\n",
              "      <td>NaN</td>\n",
              "    </tr>\n",
              "    <tr>\n",
              "      <th>4</th>\n",
              "      <td>39026145</td>\n",
              "      <td>2 15:33:42</td>\n",
              "      <td>5499</td>\n",
              "      <td>1010</td>\n",
              "      <td>-920.83</td>\n",
              "      <td>NaN</td>\n",
              "    </tr>\n",
              "    <tr>\n",
              "      <th>...</th>\n",
              "      <td>...</td>\n",
              "      <td>...</td>\n",
              "      <td>...</td>\n",
              "      <td>...</td>\n",
              "      <td>...</td>\n",
              "      <td>...</td>\n",
              "    </tr>\n",
              "    <tr>\n",
              "      <th>999995</th>\n",
              "      <td>98801178</td>\n",
              "      <td>269 10:29:06</td>\n",
              "      <td>5921</td>\n",
              "      <td>1010</td>\n",
              "      <td>-23016.59</td>\n",
              "      <td>127873</td>\n",
              "    </tr>\n",
              "    <tr>\n",
              "      <th>999996</th>\n",
              "      <td>98801178</td>\n",
              "      <td>270 10:26:45</td>\n",
              "      <td>5211</td>\n",
              "      <td>1010</td>\n",
              "      <td>-61380.88</td>\n",
              "      <td>10114209</td>\n",
              "    </tr>\n",
              "    <tr>\n",
              "      <th>999997</th>\n",
              "      <td>98801178</td>\n",
              "      <td>270 15:18:53</td>\n",
              "      <td>5921</td>\n",
              "      <td>1010</td>\n",
              "      <td>-11800.27</td>\n",
              "      <td>10105341</td>\n",
              "    </tr>\n",
              "    <tr>\n",
              "      <th>999998</th>\n",
              "      <td>98801178</td>\n",
              "      <td>271 12:47:13</td>\n",
              "      <td>5211</td>\n",
              "      <td>1010</td>\n",
              "      <td>-16170.59</td>\n",
              "      <td>10114209</td>\n",
              "    </tr>\n",
              "    <tr>\n",
              "      <th>999999</th>\n",
              "      <td>98801178</td>\n",
              "      <td>271 14:51:56</td>\n",
              "      <td>5921</td>\n",
              "      <td>1010</td>\n",
              "      <td>-10025.77</td>\n",
              "      <td>123991</td>\n",
              "    </tr>\n",
              "  </tbody>\n",
              "</table>\n",
              "<p>1000000 rows × 6 columns</p>\n",
              "</div>"
            ],
            "text/plain": [
              "        customer_id   tr_datetime  mcc_code  tr_type    amount   term_id\n",
              "0          39026145    0 10:23:26      4814     1030  -2245.92       NaN\n",
              "1          39026145    1 10:19:29      6011     7010  56147.89       NaN\n",
              "2          39026145    1 10:20:56      4829     2330 -56147.89       NaN\n",
              "3          39026145    1 10:39:54      5499     1010  -1392.47       NaN\n",
              "4          39026145    2 15:33:42      5499     1010   -920.83       NaN\n",
              "...             ...           ...       ...      ...       ...       ...\n",
              "999995     98801178  269 10:29:06      5921     1010 -23016.59    127873\n",
              "999996     98801178  270 10:26:45      5211     1010 -61380.88  10114209\n",
              "999997     98801178  270 15:18:53      5921     1010 -11800.27  10105341\n",
              "999998     98801178  271 12:47:13      5211     1010 -16170.59  10114209\n",
              "999999     98801178  271 14:51:56      5921     1010 -10025.77    123991\n",
              "\n",
              "[1000000 rows x 6 columns]"
            ]
          },
          "metadata": {
            "tags": []
          },
          "execution_count": 3
        }
      ]
    },
    {
      "cell_type": "code",
      "metadata": {
        "id": "OY6RuslAtQg8",
        "colab": {
          "base_uri": "https://localhost:8080/",
          "height": 424
        },
        "outputId": "aefb2dae-f4d3-46b2-a824-bc6bf977e324"
      },
      "source": [
        "tr_mcc_codes = pd.read_csv(filepath_or_buffer = \"data/tr_mcc_codes.csv\",\n",
        "            sep = ';')\n",
        "tr_mcc_codes"
      ],
      "execution_count": null,
      "outputs": [
        {
          "output_type": "execute_result",
          "data": {
            "text/html": [
              "<div>\n",
              "<style scoped>\n",
              "    .dataframe tbody tr th:only-of-type {\n",
              "        vertical-align: middle;\n",
              "    }\n",
              "\n",
              "    .dataframe tbody tr th {\n",
              "        vertical-align: top;\n",
              "    }\n",
              "\n",
              "    .dataframe thead th {\n",
              "        text-align: right;\n",
              "    }\n",
              "</style>\n",
              "<table border=\"1\" class=\"dataframe\">\n",
              "  <thead>\n",
              "    <tr style=\"text-align: right;\">\n",
              "      <th></th>\n",
              "      <th>mcc_code</th>\n",
              "      <th>mcc_description</th>\n",
              "    </tr>\n",
              "  </thead>\n",
              "  <tbody>\n",
              "    <tr>\n",
              "      <th>0</th>\n",
              "      <td>742</td>\n",
              "      <td>Ветеринарные услуги</td>\n",
              "    </tr>\n",
              "    <tr>\n",
              "      <th>1</th>\n",
              "      <td>1711</td>\n",
              "      <td>Генеральные подрядчики по вентиляции, теплосна...</td>\n",
              "    </tr>\n",
              "    <tr>\n",
              "      <th>2</th>\n",
              "      <td>1731</td>\n",
              "      <td>Подрядчики по электричеству</td>\n",
              "    </tr>\n",
              "    <tr>\n",
              "      <th>3</th>\n",
              "      <td>1799</td>\n",
              "      <td>Подрядчики, специализированная торговля — нигд...</td>\n",
              "    </tr>\n",
              "    <tr>\n",
              "      <th>4</th>\n",
              "      <td>2741</td>\n",
              "      <td>Разнообразные издательства/печатное дело</td>\n",
              "    </tr>\n",
              "    <tr>\n",
              "      <th>...</th>\n",
              "      <td>...</td>\n",
              "      <td>...</td>\n",
              "    </tr>\n",
              "    <tr>\n",
              "      <th>179</th>\n",
              "      <td>9211</td>\n",
              "      <td>Судовые выплаты, включая алименты и детскую по...</td>\n",
              "    </tr>\n",
              "    <tr>\n",
              "      <th>180</th>\n",
              "      <td>9222</td>\n",
              "      <td>Штрафы</td>\n",
              "    </tr>\n",
              "    <tr>\n",
              "      <th>181</th>\n",
              "      <td>9311</td>\n",
              "      <td>Налоговые платежи</td>\n",
              "    </tr>\n",
              "    <tr>\n",
              "      <th>182</th>\n",
              "      <td>9399</td>\n",
              "      <td>Правительственные услуги, нигде ранее не класс...</td>\n",
              "    </tr>\n",
              "    <tr>\n",
              "      <th>183</th>\n",
              "      <td>9402</td>\n",
              "      <td>Почтовые услуги — только правительство</td>\n",
              "    </tr>\n",
              "  </tbody>\n",
              "</table>\n",
              "<p>184 rows × 2 columns</p>\n",
              "</div>"
            ],
            "text/plain": [
              "     mcc_code                                    mcc_description\n",
              "0         742                                Ветеринарные услуги\n",
              "1        1711  Генеральные подрядчики по вентиляции, теплосна...\n",
              "2        1731                        Подрядчики по электричеству\n",
              "3        1799  Подрядчики, специализированная торговля — нигд...\n",
              "4        2741           Разнообразные издательства/печатное дело\n",
              "..        ...                                                ...\n",
              "179      9211  Судовые выплаты, включая алименты и детскую по...\n",
              "180      9222                                             Штрафы\n",
              "181      9311                                  Налоговые платежи\n",
              "182      9399  Правительственные услуги, нигде ранее не класс...\n",
              "183      9402             Почтовые услуги — только правительство\n",
              "\n",
              "[184 rows x 2 columns]"
            ]
          },
          "metadata": {
            "tags": []
          },
          "execution_count": 4
        }
      ]
    },
    {
      "cell_type": "code",
      "metadata": {
        "id": "sbokRqeRttry",
        "colab": {
          "base_uri": "https://localhost:8080/",
          "height": 424
        },
        "outputId": "550d47a8-edbc-4e5b-bc36-7e1cb89d8a79"
      },
      "source": [
        "tr_types = pd.read_csv(filepath_or_buffer = \"data/tr_types.csv\",\n",
        "            sep = ';')\n",
        "tr_types"
      ],
      "execution_count": null,
      "outputs": [
        {
          "output_type": "execute_result",
          "data": {
            "text/html": [
              "<div>\n",
              "<style scoped>\n",
              "    .dataframe tbody tr th:only-of-type {\n",
              "        vertical-align: middle;\n",
              "    }\n",
              "\n",
              "    .dataframe tbody tr th {\n",
              "        vertical-align: top;\n",
              "    }\n",
              "\n",
              "    .dataframe thead th {\n",
              "        text-align: right;\n",
              "    }\n",
              "</style>\n",
              "<table border=\"1\" class=\"dataframe\">\n",
              "  <thead>\n",
              "    <tr style=\"text-align: right;\">\n",
              "      <th></th>\n",
              "      <th>tr_type</th>\n",
              "      <th>tr_description</th>\n",
              "    </tr>\n",
              "  </thead>\n",
              "  <tbody>\n",
              "    <tr>\n",
              "      <th>0</th>\n",
              "      <td>3200</td>\n",
              "      <td>Плата за предоставление услуг посредством моби...</td>\n",
              "    </tr>\n",
              "    <tr>\n",
              "      <th>1</th>\n",
              "      <td>3210</td>\n",
              "      <td>Плата за предоставление отчета по счету карты ...</td>\n",
              "    </tr>\n",
              "    <tr>\n",
              "      <th>2</th>\n",
              "      <td>3800</td>\n",
              "      <td>Плата за обслуживание банковской карты (за пер...</td>\n",
              "    </tr>\n",
              "    <tr>\n",
              "      <th>3</th>\n",
              "      <td>4000</td>\n",
              "      <td>Плата за получение наличных в Сбербанке</td>\n",
              "    </tr>\n",
              "    <tr>\n",
              "      <th>4</th>\n",
              "      <td>4001</td>\n",
              "      <td>Плата за получение наличных в Сбербанке (в дру...</td>\n",
              "    </tr>\n",
              "    <tr>\n",
              "      <th>...</th>\n",
              "      <td>...</td>\n",
              "      <td>...</td>\n",
              "    </tr>\n",
              "    <tr>\n",
              "      <th>150</th>\n",
              "      <td>2990</td>\n",
              "      <td>Списание по требованию</td>\n",
              "    </tr>\n",
              "    <tr>\n",
              "      <th>151</th>\n",
              "      <td>2992</td>\n",
              "      <td>Списание средств для погашения задолженности п...</td>\n",
              "    </tr>\n",
              "    <tr>\n",
              "      <th>152</th>\n",
              "      <td>3001</td>\n",
              "      <td>Комиссия за обслуживание ссудного счета</td>\n",
              "    </tr>\n",
              "    <tr>\n",
              "      <th>153</th>\n",
              "      <td>3030</td>\n",
              "      <td>Плата за обслуживание банковской карты (за пос...</td>\n",
              "    </tr>\n",
              "    <tr>\n",
              "      <th>154</th>\n",
              "      <td>3120</td>\n",
              "      <td>Плата за досрочный перевыпуск карты</td>\n",
              "    </tr>\n",
              "  </tbody>\n",
              "</table>\n",
              "<p>155 rows × 2 columns</p>\n",
              "</div>"
            ],
            "text/plain": [
              "     tr_type                                     tr_description\n",
              "0       3200  Плата за предоставление услуг посредством моби...\n",
              "1       3210  Плата за предоставление отчета по счету карты ...\n",
              "2       3800  Плата за обслуживание банковской карты (за пер...\n",
              "3       4000            Плата за получение наличных в Сбербанке\n",
              "4       4001  Плата за получение наличных в Сбербанке (в дру...\n",
              "..       ...                                                ...\n",
              "150     2990                             Списание по требованию\n",
              "151     2992  Списание средств для погашения задолженности п...\n",
              "152     3001            Комиссия за обслуживание ссудного счета\n",
              "153     3030  Плата за обслуживание банковской карты (за пос...\n",
              "154     3120                Плата за досрочный перевыпуск карты\n",
              "\n",
              "[155 rows x 2 columns]"
            ]
          },
          "metadata": {
            "tags": []
          },
          "execution_count": 5
        }
      ]
    },
    {
      "cell_type": "code",
      "metadata": {
        "id": "4kaTlwnct1Rs",
        "colab": {
          "base_uri": "https://localhost:8080/",
          "height": 424
        },
        "outputId": "bdf69453-5ceb-4e5e-a123-f2232612ddf1"
      },
      "source": [
        "gender_train = pd.read_csv(filepath_or_buffer = \"data/gender_train.csv\",\n",
        "            sep = ',')\n",
        "gender_train"
      ],
      "execution_count": null,
      "outputs": [
        {
          "output_type": "execute_result",
          "data": {
            "text/html": [
              "<div>\n",
              "<style scoped>\n",
              "    .dataframe tbody tr th:only-of-type {\n",
              "        vertical-align: middle;\n",
              "    }\n",
              "\n",
              "    .dataframe tbody tr th {\n",
              "        vertical-align: top;\n",
              "    }\n",
              "\n",
              "    .dataframe thead th {\n",
              "        text-align: right;\n",
              "    }\n",
              "</style>\n",
              "<table border=\"1\" class=\"dataframe\">\n",
              "  <thead>\n",
              "    <tr style=\"text-align: right;\">\n",
              "      <th></th>\n",
              "      <th>customer_id</th>\n",
              "      <th>gender</th>\n",
              "    </tr>\n",
              "  </thead>\n",
              "  <tbody>\n",
              "    <tr>\n",
              "      <th>0</th>\n",
              "      <td>10928546</td>\n",
              "      <td>1</td>\n",
              "    </tr>\n",
              "    <tr>\n",
              "      <th>1</th>\n",
              "      <td>69348468</td>\n",
              "      <td>1</td>\n",
              "    </tr>\n",
              "    <tr>\n",
              "      <th>2</th>\n",
              "      <td>61009479</td>\n",
              "      <td>0</td>\n",
              "    </tr>\n",
              "    <tr>\n",
              "      <th>3</th>\n",
              "      <td>74045822</td>\n",
              "      <td>0</td>\n",
              "    </tr>\n",
              "    <tr>\n",
              "      <th>4</th>\n",
              "      <td>27979606</td>\n",
              "      <td>1</td>\n",
              "    </tr>\n",
              "    <tr>\n",
              "      <th>...</th>\n",
              "      <td>...</td>\n",
              "      <td>...</td>\n",
              "    </tr>\n",
              "    <tr>\n",
              "      <th>8395</th>\n",
              "      <td>90417572</td>\n",
              "      <td>0</td>\n",
              "    </tr>\n",
              "    <tr>\n",
              "      <th>8396</th>\n",
              "      <td>66837341</td>\n",
              "      <td>0</td>\n",
              "    </tr>\n",
              "    <tr>\n",
              "      <th>8397</th>\n",
              "      <td>10758984</td>\n",
              "      <td>1</td>\n",
              "    </tr>\n",
              "    <tr>\n",
              "      <th>8398</th>\n",
              "      <td>11376556</td>\n",
              "      <td>0</td>\n",
              "    </tr>\n",
              "    <tr>\n",
              "      <th>8399</th>\n",
              "      <td>29190649</td>\n",
              "      <td>0</td>\n",
              "    </tr>\n",
              "  </tbody>\n",
              "</table>\n",
              "<p>8400 rows × 2 columns</p>\n",
              "</div>"
            ],
            "text/plain": [
              "      customer_id  gender\n",
              "0        10928546       1\n",
              "1        69348468       1\n",
              "2        61009479       0\n",
              "3        74045822       0\n",
              "4        27979606       1\n",
              "...           ...     ...\n",
              "8395     90417572       0\n",
              "8396     66837341       0\n",
              "8397     10758984       1\n",
              "8398     11376556       0\n",
              "8399     29190649       0\n",
              "\n",
              "[8400 rows x 2 columns]"
            ]
          },
          "metadata": {
            "tags": []
          },
          "execution_count": 6
        }
      ]
    },
    {
      "cell_type": "markdown",
      "metadata": {
        "id": "1hcrfwsYN_Yz"
      },
      "source": [
        "1. Для столбца tr_type датафрейма transactions выберите произвольные 1000 строк с помощью метода sample\n",
        "2. В полученной на предыдущем этапе подвыборке найдите долю транзакций (стобец tr_description в датасете tr_types), в которой содержится подстрока 'POS' или 'ATM'"
      ]
    },
    {
      "cell_type": "code",
      "metadata": {
        "id": "m31ynbRkr_QW",
        "colab": {
          "base_uri": "https://localhost:8080/",
          "height": 36
        },
        "outputId": "b6561699-9012-4692-db91-3b3d879539df"
      },
      "source": [
        "# Создаем сэмпл\n",
        "tr_type_sample = transactions[\"tr_type\"].sample(n=1000)\n",
        "# Делаем маску\n",
        "mask = (tr_types[\"tr_description\"].str.contains(\"АТМ\")) | (tr_types[\"tr_description\"].str.contains(\"POS\"))\n",
        "# Применяем маску и находим подходящие типы\n",
        "matching_types = tr_types[mask][\"tr_type\"]\n",
        "# Находим типы в выборке, совпадающие с типами, найденными на прошлом этапе, \n",
        "# считаем сколько раз встречается True, сколько False\n",
        "result = tr_type_sample.isin(matching_types).value_counts()\n",
        "# Считаем отношение\n",
        "result[True] / (result[True] + result[False])"
      ],
      "execution_count": null,
      "outputs": [
        {
          "output_type": "execute_result",
          "data": {
            "text/plain": [
              "0.633"
            ]
          },
          "metadata": {
            "tags": []
          },
          "execution_count": 7
        }
      ]
    },
    {
      "cell_type": "markdown",
      "metadata": {
        "id": "fiZBDIZt8JeS"
      },
      "source": [
        "## Задание 2 \n"
      ]
    },
    {
      "cell_type": "markdown",
      "metadata": {
        "id": "FFKeBUThOCrz"
      },
      "source": [
        "\n",
        "1. Для столбца tr_type датафрейма transactions посчитайте частоту встречаемости всех типов транзакций tr_type в transactions.\n",
        "2. Выведите топ-10 транзакций по частоте встречаемости."
      ]
    },
    {
      "cell_type": "code",
      "metadata": {
        "id": "HLZ9oIn7C3Ra",
        "colab": {
          "base_uri": "https://localhost:8080/",
          "height": 225
        },
        "outputId": "d43fd6a1-9fc3-4ead-95e0-a6e9ef3a08de"
      },
      "source": [
        "# Считаем сколько раз встречается каждый тип, сортируем, выводим первые 10\n",
        "top = transactions[\"tr_type\"].value_counts().sort_values(ascending=False).head(10)\n",
        "top"
      ],
      "execution_count": null,
      "outputs": [
        {
          "output_type": "execute_result",
          "data": {
            "text/plain": [
              "1010    231117\n",
              "2010    151166\n",
              "7070    149006\n",
              "1110    137658\n",
              "1030    118975\n",
              "2370     49830\n",
              "7010     28972\n",
              "7030     26078\n",
              "7071     15781\n",
              "1100     15476\n",
              "Name: tr_type, dtype: int64"
            ]
          },
          "metadata": {
            "tags": []
          },
          "execution_count": 8
        }
      ]
    },
    {
      "cell_type": "markdown",
      "metadata": {
        "id": "mktm_JeA8JeX"
      },
      "source": [
        "## Задание 3\n",
        "1. В датафрейме transactions найдите клиента с максимальной суммой приходов на карту\n",
        "2. В датафрейме transactions найдите клиента с максимальной суммой расходов по карте\n",
        "3. Найдите разницу для этих клиентов между суммой расходов и суммой приходов"
      ]
    },
    {
      "cell_type": "code",
      "metadata": {
        "id": "SBfa-BLVEasR",
        "colab": {
          "base_uri": "https://localhost:8080/",
          "height": 111
        },
        "outputId": "520d26cd-3804-4550-c9f6-90e0a9f2b57b"
      },
      "source": [
        "ids = transactions[\"customer_id\"]\n",
        "amounts = transactions[\"amount\"]\n",
        "\n",
        "income = pd.Series(data=[], dtype=float)\n",
        "outcome = pd.Series(data=[], dtype=float)\n",
        "\n",
        "# Итерируемся по айдишникам, разделяем транзакции на положительные и\n",
        "# отрицательные. В любом из случаев смотрим наличия id в нужной серии, \n",
        "# если id имеется - суммриуем, нет - присваиваем\n",
        "for index, value in ids.items():\n",
        "  if amounts[index] > 0:\n",
        "    if value in income:\n",
        "      income[value] += amounts[index]\n",
        "    else:\n",
        "      income[value] = amounts[index]\n",
        "  else:\n",
        "    if value in outcome:\n",
        "      outcome[value] += amounts[index]\n",
        "    else:\n",
        "      outcome[value] = amounts[index]\n",
        "\n",
        "maxIncomeClient = income.sort_values(ascending=False).head(1)\n",
        "maxOutcomeClient = outcome.sort_values(ascending=True).head(1)\n",
        "\n",
        "print(\"Max income client: \", maxIncomeClient)\n",
        "print(\"Max outcome client: \", maxOutcomeClient)\n",
        "\n",
        "maxIncomeClient.iloc[0] + maxOutcomeClient.iloc[0]"
      ],
      "execution_count": null,
      "outputs": [
        {
          "output_type": "stream",
          "text": [
            "Max income client:  70780820    1.248115e+09\n",
            "dtype: float64\n",
            "Max outcome client:  70780820   -1.249952e+09\n",
            "dtype: float64\n"
          ],
          "name": "stdout"
        },
        {
          "output_type": "execute_result",
          "data": {
            "text/plain": [
              "-1837317.979973793"
            ]
          },
          "metadata": {
            "tags": []
          },
          "execution_count": 9
        }
      ]
    },
    {
      "cell_type": "markdown",
      "metadata": {
        "id": "BYrJ5b_E8Jee"
      },
      "source": [
        "## Задание 4\n",
        "1. Найдите среднее арифметическое и медиану по всем типам транзакций из топ 10 из задания 2\n",
        "1. Найдите среднее арифметическое и медиану по всем типам транзакций для клиентов из задания 3"
      ]
    },
    {
      "cell_type": "code",
      "metadata": {
        "id": "-lHZxLgUXGRy",
        "colab": {
          "base_uri": "https://localhost:8080/",
          "height": 394
        },
        "outputId": "9c0be8c6-fb17-4433-cfbc-79c8d76e6eed"
      },
      "source": [
        "# 1\n",
        "for index, value in top.items():\n",
        "  matchingSeries = transactions[transactions.tr_type == index][\"amount\"]\n",
        "  print(\"Median: \", matchingSeries.median())\n",
        "  print(\"Average: \", matchingSeries.sum() / matchingSeries.count())"
      ],
      "execution_count": null,
      "outputs": [
        {
          "output_type": "stream",
          "text": [
            "Median:  -7411.52\n",
            "Average:  -19784.748639650046\n",
            "Median:  -44918.32\n",
            "Average:  -136077.62932504667\n",
            "Median:  11319.42\n",
            "Average:  65569.83170020001\n",
            "Median:  -11207.57\n",
            "Average:  -32119.330370773943\n",
            "Median:  -2245.92\n",
            "Average:  -5320.980221811305\n",
            "Median:  -44918.32\n",
            "Average:  -205418.24903170782\n",
            "Median:  112295.79\n",
            "Average:  276391.7895961618\n",
            "Median:  13951.52\n",
            "Average:  86104.33290896541\n",
            "Median:  3593.47\n",
            "Average:  66806.82662252075\n",
            "Median:  -10188.259999999998\n",
            "Average:  -44061.8272615663\n"
          ],
          "name": "stdout"
        }
      ]
    },
    {
      "cell_type": "code",
      "metadata": {
        "id": "S1QwSmjPlRmL",
        "colab": {
          "base_uri": "https://localhost:8080/",
          "height": 55
        },
        "outputId": "d6a304fc-86f9-403b-f0ba-83e8bb2fcf8b"
      },
      "source": [
        "# 2\n",
        "for index, value in maxIncomeClient.items():\n",
        "  matchingSeries = transactions[transactions.customer_id == index][\"amount\"]\n",
        "  print(\"Median: \", matchingSeries.median())\n",
        "  print(\"Average: \", matchingSeries.sum() / matchingSeries.count())"
      ],
      "execution_count": null,
      "outputs": [
        {
          "output_type": "stream",
          "text": [
            "Median:  8803.99\n",
            "Average:  -20.694945765423416\n"
          ],
          "name": "stdout"
        }
      ]
    },
    {
      "cell_type": "markdown",
      "metadata": {
        "id": "BYXwM4l3QDBu"
      },
      "source": [
        "## Подготовка для заданий 5-8"
      ]
    },
    {
      "cell_type": "markdown",
      "metadata": {
        "id": "XWQzFeKcQHRe"
      },
      "source": [
        "*Из заданий 5-8 нужно выполнить минимум два любых*\n",
        "\n",
        "Соедините transactions с всеми остальными таблицами (tr_mcc_codes, tr_types, gender_train). Причём с gender_train необходимо смёрджиться с помощью left join, а с оставшимися датафреймами - через inner.\n",
        "После получения результата таблицы gender_train, tr_types, tr_mcc_codes можно удалить. В результате соединения датафреймов должно получиться 999584 строки."
      ]
    },
    {
      "cell_type": "code",
      "metadata": {
        "id": "sndJxjJ7QQf5",
        "colab": {
          "base_uri": "https://localhost:8080/",
          "height": 36
        },
        "outputId": "198b15dc-76e8-44a0-b136-ad0bc3fc211c"
      },
      "source": [
        "transactions = pd.merge(transactions, gender_train, how='left')\n",
        "transactions = pd.merge(transactions, tr_mcc_codes, how='inner')\n",
        "transactions = pd.merge(transactions, tr_types, how='inner')\n",
        "transactions.shape"
      ],
      "execution_count": null,
      "outputs": [
        {
          "output_type": "execute_result",
          "data": {
            "text/plain": [
              "(999584, 9)"
            ]
          },
          "metadata": {
            "tags": []
          },
          "execution_count": 12
        }
      ]
    },
    {
      "cell_type": "code",
      "metadata": {
        "id": "HTWEzqzjzFL-",
        "colab": {
          "base_uri": "https://localhost:8080/",
          "height": 206
        },
        "outputId": "79353bb3-ae3e-4260-d171-fa34954bbfa5"
      },
      "source": [
        "transactions.head()"
      ],
      "execution_count": null,
      "outputs": [
        {
          "output_type": "execute_result",
          "data": {
            "text/html": [
              "<div>\n",
              "<style scoped>\n",
              "    .dataframe tbody tr th:only-of-type {\n",
              "        vertical-align: middle;\n",
              "    }\n",
              "\n",
              "    .dataframe tbody tr th {\n",
              "        vertical-align: top;\n",
              "    }\n",
              "\n",
              "    .dataframe thead th {\n",
              "        text-align: right;\n",
              "    }\n",
              "</style>\n",
              "<table border=\"1\" class=\"dataframe\">\n",
              "  <thead>\n",
              "    <tr style=\"text-align: right;\">\n",
              "      <th></th>\n",
              "      <th>customer_id</th>\n",
              "      <th>tr_datetime</th>\n",
              "      <th>mcc_code</th>\n",
              "      <th>tr_type</th>\n",
              "      <th>amount</th>\n",
              "      <th>term_id</th>\n",
              "      <th>gender</th>\n",
              "      <th>mcc_description</th>\n",
              "      <th>tr_description</th>\n",
              "    </tr>\n",
              "  </thead>\n",
              "  <tbody>\n",
              "    <tr>\n",
              "      <th>0</th>\n",
              "      <td>39026145</td>\n",
              "      <td>0 10:23:26</td>\n",
              "      <td>4814</td>\n",
              "      <td>1030</td>\n",
              "      <td>-2245.92</td>\n",
              "      <td>NaN</td>\n",
              "      <td>1.0</td>\n",
              "      <td>Звонки с использованием телефонов, считывающих...</td>\n",
              "      <td>Оплата услуги. Банкоматы СБ РФ</td>\n",
              "    </tr>\n",
              "    <tr>\n",
              "      <th>1</th>\n",
              "      <td>39026145</td>\n",
              "      <td>6 07:08:31</td>\n",
              "      <td>4814</td>\n",
              "      <td>1030</td>\n",
              "      <td>-5614.79</td>\n",
              "      <td>NaN</td>\n",
              "      <td>1.0</td>\n",
              "      <td>Звонки с использованием телефонов, считывающих...</td>\n",
              "      <td>Оплата услуги. Банкоматы СБ РФ</td>\n",
              "    </tr>\n",
              "    <tr>\n",
              "      <th>2</th>\n",
              "      <td>39026145</td>\n",
              "      <td>8 07:06:10</td>\n",
              "      <td>4814</td>\n",
              "      <td>1030</td>\n",
              "      <td>-1122.96</td>\n",
              "      <td>NaN</td>\n",
              "      <td>1.0</td>\n",
              "      <td>Звонки с использованием телефонов, считывающих...</td>\n",
              "      <td>Оплата услуги. Банкоматы СБ РФ</td>\n",
              "    </tr>\n",
              "    <tr>\n",
              "      <th>3</th>\n",
              "      <td>39026145</td>\n",
              "      <td>11 08:49:03</td>\n",
              "      <td>4814</td>\n",
              "      <td>1030</td>\n",
              "      <td>-2245.92</td>\n",
              "      <td>NaN</td>\n",
              "      <td>1.0</td>\n",
              "      <td>Звонки с использованием телефонов, считывающих...</td>\n",
              "      <td>Оплата услуги. Банкоматы СБ РФ</td>\n",
              "    </tr>\n",
              "    <tr>\n",
              "      <th>4</th>\n",
              "      <td>39026145</td>\n",
              "      <td>11 14:12:08</td>\n",
              "      <td>4814</td>\n",
              "      <td>1030</td>\n",
              "      <td>-2245.92</td>\n",
              "      <td>NaN</td>\n",
              "      <td>1.0</td>\n",
              "      <td>Звонки с использованием телефонов, считывающих...</td>\n",
              "      <td>Оплата услуги. Банкоматы СБ РФ</td>\n",
              "    </tr>\n",
              "  </tbody>\n",
              "</table>\n",
              "</div>"
            ],
            "text/plain": [
              "   customer_id  ...                  tr_description\n",
              "0     39026145  ...  Оплата услуги. Банкоматы СБ РФ\n",
              "1     39026145  ...  Оплата услуги. Банкоматы СБ РФ\n",
              "2     39026145  ...  Оплата услуги. Банкоматы СБ РФ\n",
              "3     39026145  ...  Оплата услуги. Банкоматы СБ РФ\n",
              "4     39026145  ...  Оплата услуги. Банкоматы СБ РФ\n",
              "\n",
              "[5 rows x 9 columns]"
            ]
          },
          "metadata": {
            "tags": []
          },
          "execution_count": 13
        }
      ]
    },
    {
      "cell_type": "markdown",
      "metadata": {
        "id": "8vrFauJ8QgmT"
      },
      "source": [
        "## Задание 5"
      ]
    },
    {
      "cell_type": "markdown",
      "metadata": {
        "id": "rOjEQ5xyQfE_"
      },
      "source": [
        "1. Определите модуль разницы между средними тратами женщин и мужчин (трата - отрицательное значение amount).\n",
        "2. Определите модуль разницы между средними поступлениями у мужчин и женщин\n",
        "\n",
        "Обратите внимание, что для вычисления модуля разности точных знаний о том, \n",
        "какой класc относится к мужчинам, а какой - к женщинам, не требуется."
      ]
    },
    {
      "cell_type": "code",
      "metadata": {
        "id": "Or-ohcQm0JSM",
        "colab": {
          "base_uri": "https://localhost:8080/",
          "height": 36
        },
        "outputId": "4067a6fc-93ab-4d1f-81ba-539b43beb422"
      },
      "source": [
        "# 1\n",
        "\n",
        "womenOutcome = transactions[(transactions.gender == 1) & (transactions.amount < 0)].amount\n",
        "avgSpendingWomen = womenOutcome.sum() / womenOutcome.size\n",
        "\n",
        "menOutcome = transactions[(transactions.gender == 0) & (transactions.amount < 0)].amount\n",
        "avgSpendingMen = menOutcome.sum() / menOutcome.size\n",
        "\n",
        "# 2\n",
        "\n",
        "womenIncome = transactions[(transactions.gender == 1) & (transactions.amount > 0)].amount\n",
        "avgIncomeWomen = womenIncome.sum() / womenIncome.size\n",
        "\n",
        "menIncome = transactions[(transactions.gender == 0) & (transactions.amount > 0)].amount\n",
        "avgIncomeMen = menIncome.sum() / menIncome.size\n",
        "\n",
        "abs(avgSpendingWomen - avgSpendingMen), abs(avgIncomeWomen - avgIncomeMen)"
      ],
      "execution_count": null,
      "outputs": [
        {
          "output_type": "execute_result",
          "data": {
            "text/plain": [
              "(32718.05492022467, 63366.57104801465)"
            ]
          },
          "metadata": {
            "tags": []
          },
          "execution_count": 14
        }
      ]
    },
    {
      "cell_type": "markdown",
      "metadata": {
        "id": "DSHFLbepQ7G1"
      },
      "source": [
        "## Задание 6"
      ]
    },
    {
      "cell_type": "markdown",
      "metadata": {
        "id": "2EF1490bQ-17"
      },
      "source": [
        "1. По всем типам транзакций рассчитайте максимальную сумму прихода на карту (из строго положительных сумм по столбцу amount) отдельно для мужчин и женщин (назовите ее \"max_income\"). Оставьте по 10 транзакций для мужчин и для женщин, наименьших среди всех транзакций по полученным значениям \"max_income\". \n",
        "2. Выделите среди них те, которые встречаются одновременно и у мужчин, и у женщин"
      ]
    },
    {
      "cell_type": "code",
      "metadata": {
        "id": "QLUvq9gw2Mwo",
        "colab": {
          "base_uri": "https://localhost:8080/",
          "height": 149
        },
        "outputId": "faeb6d39-9820-45ed-a317-c2e0c5bc7c70"
      },
      "source": [
        "ut = transactions[\"tr_type\"].unique()\n",
        "\n",
        "max_income = pd.DataFrame([],\n",
        "                  columns=['Type', 'Men', 'Women'])\n",
        "\n",
        "# Итерируемся по уникальным типам, делаем выборку, проверяем что сумма\n",
        "# не отрицательна, добавляем в датафрейм\n",
        "\n",
        "for value in ut:\n",
        "  maxMen = transactions[(transactions.tr_type == value) & (transactions.gender == 1)][\"amount\"].max()\n",
        "  maxWomen = transactions[(transactions.tr_type == value) & (transactions.gender == 0)][\"amount\"].max()\n",
        "  if(maxMen > 0 and maxWomen > 0):\n",
        "    appendData = pd.DataFrame([[value, maxMen, maxWomen]], \n",
        "                             columns=['Type', 'Men', 'Women'])\n",
        "    max_income = max_income.append(appendData, ignore_index = True)\n",
        "\n",
        "# 10 по возрастанию у мужчин\n",
        "setOfMen = max_income.sort_values(\"Men\", ascending=True)[[\"Type\", \"Men\"]].head(10)\n",
        "\n",
        "# 10 по возрастанию у женщин\n",
        "setOfWomen = max_income.sort_values(\"Women\", ascending=True)[[\"Type\", \"Women\"]].head(10)\n",
        "\n",
        "# Пересечение (индекс в изначальном датафрейме, тип транзакции)\n",
        "setOfMen[setOfMen.Type.isin(setOfWomen.Type)].Type"
      ],
      "execution_count": null,
      "outputs": [
        {
          "output_type": "execute_result",
          "data": {
            "text/plain": [
              "8     4110\n",
              "2     1010\n",
              "6     2010\n",
              "9     2110\n",
              "12    2370\n",
              "4     1210\n",
              "Name: Type, dtype: object"
            ]
          },
          "metadata": {
            "tags": []
          },
          "execution_count": 15
        }
      ]
    },
    {
      "cell_type": "markdown",
      "metadata": {
        "id": "W-LaVwRdR3UB"
      },
      "source": [
        "## Задание 7"
      ]
    },
    {
      "cell_type": "markdown",
      "metadata": {
        "id": "rhI4NOciR7e0"
      },
      "source": [
        "1. Найдите суммы затрат по каждой категории для мужчин и для женщин. \n",
        "2. Найдите топ 5 категорий с самыми большими относительными модулями разности для в тратах для разных полов."
      ]
    },
    {
      "cell_type": "markdown",
      "metadata": {
        "id": "aGaPkQkVSvl8"
      },
      "source": [
        "## Задание 8"
      ]
    },
    {
      "cell_type": "markdown",
      "metadata": {
        "id": "T7Ox1qAXTHQl"
      },
      "source": [
        "1. Из поля tr_datetime выделите час tr_hour, в который произошла транзакция, как первые 2 цифры до \":\". (\\**)\n",
        "2. Посчитайте ночные поступления для мужчин и женщин. Ночные - это примерно 00-06 часов. "
      ]
    }
  ]
}