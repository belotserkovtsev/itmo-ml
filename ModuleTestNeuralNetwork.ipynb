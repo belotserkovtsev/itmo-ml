{
  "nbformat": 4,
  "nbformat_minor": 0,
  "metadata": {
    "kernelspec": {
      "display_name": "Python 3",
      "language": "python",
      "name": "python3"
    },
    "language_info": {
      "codemirror_mode": {
        "name": "ipython",
        "version": 3
      },
      "file_extension": ".py",
      "mimetype": "text/x-python",
      "name": "python",
      "nbconvert_exporter": "python",
      "pygments_lexer": "ipython3",
      "version": "3.6.5"
    },
    "toc": {
      "base_numbering": 1,
      "nav_menu": {},
      "number_sections": true,
      "sideBar": true,
      "skip_h1_title": false,
      "title_cell": "Table of Contents",
      "title_sidebar": "Contents",
      "toc_cell": false,
      "toc_position": {},
      "toc_section_display": true,
      "toc_window_display": false
    },
    "colab": {
      "name": "Копия блокнота \"Контрольная работа 2.ipynb\"",
      "provenance": [],
      "collapsed_sections": [],
      "toc_visible": true
    },
    "accelerator": "GPU"
  },
  "cells": [
    {
      "cell_type": "markdown",
      "metadata": {
        "id": "LYKqDli0Lqas"
      },
      "source": [
        "# Рубежная контрольная работа\n",
        "\n",
        "Эту работу выполнять не обязательно. Баллы набранные за работу просуммируются с баллами, которые были набраны за контрольную работу 1 и выставлены как оценка за промежуточную аттестацию \"автоматом\". "
      ]
    },
    {
      "cell_type": "markdown",
      "metadata": {
        "id": "Cdt8kOfu4K3x"
      },
      "source": [
        "Сделайте копию ноутбука\n",
        "\n",
        "Присвойте переменной `v` значение свой табельный номер ИСУ, это нужно для определения вашего варианта. Запустите код в следующей ячейке."
      ]
    },
    {
      "cell_type": "code",
      "metadata": {
        "id": "38Ryn8pjvYqb",
        "colab": {
          "base_uri": "https://localhost:8080/"
        },
        "outputId": "690f7c0b-795d-4171-b1d4-e3fab9b1fdcf"
      },
      "source": [
        "from datetime import datetime\n",
        "current_datetime = datetime.now()\n",
        "print(current_datetime)\n",
        "v = 278386 # по умолчанию вписан мой номер"
      ],
      "execution_count": null,
      "outputs": [
        {
          "output_type": "stream",
          "text": [
            "2020-12-21 10:30:52.913015\n"
          ],
          "name": "stdout"
        }
      ]
    },
    {
      "cell_type": "markdown",
      "metadata": {
        "id": "W85i4fC7srcf"
      },
      "source": [
        "# Общее задание"
      ]
    },
    {
      "cell_type": "markdown",
      "metadata": {
        "id": "tIXprGNhsvTG"
      },
      "source": [
        "Нужно решить задачу бинарной классификации, предварительно построив признаковое описание объектов на основе нескольких таблиц. \r\n",
        "\r\n",
        "Целевая переменная - пол клиента.\r\n",
        "\r\n",
        "В качестве модели нужно использовать нейронную сеть, которую нужно строить с помощью `keras` или `torch` на выбор студента."
      ]
    },
    {
      "cell_type": "markdown",
      "metadata": {
        "id": "G5nnK3tftPvc"
      },
      "source": [
        "# Данные"
      ]
    },
    {
      "cell_type": "markdown",
      "metadata": {
        "id": "y8f3_l3KtSUh"
      },
      "source": [
        "Для всех последующих заданий будем использовать обезличенные транзакционные банковские данные. Для этого считайте в переменные **transactions, tr_mcc_codes и gender_train** из одноимённых таблиц из папки data. Для таблицы transactions используйте только первые n=1000000 строк."
      ]
    },
    {
      "cell_type": "markdown",
      "metadata": {
        "id": "6gIKs_I-tr27"
      },
      "source": [
        "Эти данные уже использовались в работе 2. Описание данных тут: https://drive.google.com/file/d/13sn8orjkoGfO1SVZYByXNmZQYFRfmOdp/view?usp=sharing\r\n",
        "\r\n",
        "Скачать данные отсюда: https://drive.google.com/drive/folders/1YAMe7MiTxA-RSSd8Ex2p-L0Dspe6Gs4L?usp=sharing"
      ]
    },
    {
      "cell_type": "markdown",
      "metadata": {
        "id": "OFP_i1F1Lqay"
      },
      "source": [
        "## Задание 1\n",
        "\n",
        "В задании требуется на основе нескольких таблиц с данными сделать признаковое описание объектов. \n",
        "\n",
        "Объектами являются клиенты. Клиенты идентифицируются с помощью `customer_id`, которые есть в таблицах **transactions** и **gender_train**. В качестве призаков нужно использовать даннее по категориям транзаций: ```mcc_code``` — mcc-код транзакции есть в таблицах **transactions** и **tr_mcc_codes**\n"
      ]
    },
    {
      "cell_type": "markdown",
      "metadata": {
        "id": "F57T22yav-gp"
      },
      "source": [
        "Для выбора варианта, запустите код в следующей ячейке\n",
        "\n"
      ]
    },
    {
      "cell_type": "code",
      "metadata": {
        "id": "zFcuNXzcwMbH",
        "colab": {
          "base_uri": "https://localhost:8080/"
        },
        "outputId": "c87a609e-d428-4ba0-9d32-70439ee6f28c"
      },
      "source": [
        "print ('Список категорий')\n",
        "feature_list = ['Одежда (также нужно искать \"одежды\")', 'Аптеки', 'Ценные бумаги', 'Магазины косметики и Салоны красоты', 'Образовательные услуги (а также школы, университеты)',\n",
        "                'Алименты', 'Прокат автомобилей', 'Автозапчасти, Автошины и Станции техобслуживания (а также СТО)', 'Видеоигры (искать надо по \"видеоигр\")',\n",
        "                'Отели', 'Программирование', 'Ремонт', 'Предсказатели будущего', 'Ювелирные изделия']\n",
        "if (int(str(v)[4]) % 2) == 0:\n",
        "  print (feature_list[::2])\n",
        "else:\n",
        "  print (feature_list[::-2])\n",
        "\n",
        "\n",
        "if (int(str(v)[5]) % 2) == 0:\n",
        "  print ('В качестве значений признаков используйте количество транзакций с тратами и количество транзакций с поступлениями')\n",
        "else: \n",
        "  print ('В качестве значений признаков используйте сумму по транзакциям с тратами и сумму по транзакциям с поступлениями')"
      ],
      "execution_count": null,
      "outputs": [
        {
          "output_type": "stream",
          "text": [
            "Список категорий\n",
            "['Одежда (также нужно искать \"одежды\")', 'Ценные бумаги', 'Образовательные услуги (а также школы, университеты)', 'Прокат автомобилей', 'Видеоигры (искать надо по \"видеоигр\")', 'Программирование', 'Предсказатели будущего']\n",
            "В качестве значений признаков используйте количество транзакций с тратами и количество транзакций с поступлениями\n"
          ],
          "name": "stdout"
        }
      ]
    },
    {
      "cell_type": "markdown",
      "metadata": {
        "id": "3V5SzWwN7k8F"
      },
      "source": [
        "Каждая категория может быть связана с одним или несколькими mcc-кодами. Например, вот несколько mcc-кодов по категории \"Одежда\": \r\n",
        "* 5621; Готовая женская одежда\r\n",
        "* 5641; Детская одежда\r\n",
        "* 5651; Одежда для всей семьи"
      ]
    },
    {
      "cell_type": "markdown",
      "metadata": {
        "id": "xgFGtCDIvU4m"
      },
      "source": [
        "Таким образом получится 14 признаков, то есть семь категорий, каждая из которых даст два значения: траты и поступления. Например, категория \"Одежда\" даёт признаки \"Одежда траты\" и \"Одежда поступления\"."
      ]
    },
    {
      "cell_type": "markdown",
      "metadata": {
        "id": "xGC6oWTyv9S4"
      },
      "source": [
        "Сделайте нормализацию значений признаков так, чтобы все означения менялись от 0 до 1. "
      ]
    },
    {
      "cell_type": "code",
      "metadata": {
        "id": "h8UtXjBN9SN-"
      },
      "source": [
        "import pandas as pd\n",
        "import numpy as np"
      ],
      "execution_count": null,
      "outputs": []
    },
    {
      "cell_type": "code",
      "metadata": {
        "colab": {
          "base_uri": "https://localhost:8080/"
        },
        "id": "apHnu4yv8gPv",
        "outputId": "ff326045-e852-4047-f17e-f99de6647d19"
      },
      "source": [
        "from google.colab import drive\n",
        "drive.mount('/content/drive')"
      ],
      "execution_count": null,
      "outputs": [
        {
          "output_type": "stream",
          "text": [
            "Mounted at /content/drive\n"
          ],
          "name": "stdout"
        }
      ]
    },
    {
      "cell_type": "code",
      "metadata": {
        "colab": {
          "base_uri": "https://localhost:8080/",
          "height": 206
        },
        "id": "03R4dCJv9C8T",
        "outputId": "35783591-496d-4540-c7a1-0c02d7b1a550"
      },
      "source": [
        "transactions = pd.read_csv(filepath_or_buffer = \"transactions.csv\",\n",
        "            sep = ',',\n",
        "            nrows = 1_000_000)\n",
        "transactions.head()"
      ],
      "execution_count": null,
      "outputs": [
        {
          "output_type": "execute_result",
          "data": {
            "text/html": [
              "<div>\n",
              "<style scoped>\n",
              "    .dataframe tbody tr th:only-of-type {\n",
              "        vertical-align: middle;\n",
              "    }\n",
              "\n",
              "    .dataframe tbody tr th {\n",
              "        vertical-align: top;\n",
              "    }\n",
              "\n",
              "    .dataframe thead th {\n",
              "        text-align: right;\n",
              "    }\n",
              "</style>\n",
              "<table border=\"1\" class=\"dataframe\">\n",
              "  <thead>\n",
              "    <tr style=\"text-align: right;\">\n",
              "      <th></th>\n",
              "      <th>customer_id</th>\n",
              "      <th>tr_datetime</th>\n",
              "      <th>mcc_code</th>\n",
              "      <th>tr_type</th>\n",
              "      <th>amount</th>\n",
              "      <th>term_id</th>\n",
              "    </tr>\n",
              "  </thead>\n",
              "  <tbody>\n",
              "    <tr>\n",
              "      <th>0</th>\n",
              "      <td>39026145</td>\n",
              "      <td>0 10:23:26</td>\n",
              "      <td>4814</td>\n",
              "      <td>1030</td>\n",
              "      <td>-2245.92</td>\n",
              "      <td>NaN</td>\n",
              "    </tr>\n",
              "    <tr>\n",
              "      <th>1</th>\n",
              "      <td>39026145</td>\n",
              "      <td>1 10:19:29</td>\n",
              "      <td>6011</td>\n",
              "      <td>7010</td>\n",
              "      <td>56147.89</td>\n",
              "      <td>NaN</td>\n",
              "    </tr>\n",
              "    <tr>\n",
              "      <th>2</th>\n",
              "      <td>39026145</td>\n",
              "      <td>1 10:20:56</td>\n",
              "      <td>4829</td>\n",
              "      <td>2330</td>\n",
              "      <td>-56147.89</td>\n",
              "      <td>NaN</td>\n",
              "    </tr>\n",
              "    <tr>\n",
              "      <th>3</th>\n",
              "      <td>39026145</td>\n",
              "      <td>1 10:39:54</td>\n",
              "      <td>5499</td>\n",
              "      <td>1010</td>\n",
              "      <td>-1392.47</td>\n",
              "      <td>NaN</td>\n",
              "    </tr>\n",
              "    <tr>\n",
              "      <th>4</th>\n",
              "      <td>39026145</td>\n",
              "      <td>2 15:33:42</td>\n",
              "      <td>5499</td>\n",
              "      <td>1010</td>\n",
              "      <td>-920.83</td>\n",
              "      <td>NaN</td>\n",
              "    </tr>\n",
              "  </tbody>\n",
              "</table>\n",
              "</div>"
            ],
            "text/plain": [
              "   customer_id tr_datetime  mcc_code  tr_type    amount term_id\n",
              "0     39026145  0 10:23:26      4814     1030  -2245.92     NaN\n",
              "1     39026145  1 10:19:29      6011     7010  56147.89     NaN\n",
              "2     39026145  1 10:20:56      4829     2330 -56147.89     NaN\n",
              "3     39026145  1 10:39:54      5499     1010  -1392.47     NaN\n",
              "4     39026145  2 15:33:42      5499     1010   -920.83     NaN"
            ]
          },
          "metadata": {
            "tags": []
          },
          "execution_count": 135
        }
      ]
    },
    {
      "cell_type": "code",
      "metadata": {
        "colab": {
          "base_uri": "https://localhost:8080/",
          "height": 206
        },
        "id": "iOlSxrDo96Sg",
        "outputId": "83d83d16-6fc4-4c9e-c9b8-0c13d18ddc78"
      },
      "source": [
        "gender_train = pd.read_csv(filepath_or_buffer = \"gender_train.csv\",\n",
        "            sep = ',')\n",
        "gender_train.head()"
      ],
      "execution_count": null,
      "outputs": [
        {
          "output_type": "execute_result",
          "data": {
            "text/html": [
              "<div>\n",
              "<style scoped>\n",
              "    .dataframe tbody tr th:only-of-type {\n",
              "        vertical-align: middle;\n",
              "    }\n",
              "\n",
              "    .dataframe tbody tr th {\n",
              "        vertical-align: top;\n",
              "    }\n",
              "\n",
              "    .dataframe thead th {\n",
              "        text-align: right;\n",
              "    }\n",
              "</style>\n",
              "<table border=\"1\" class=\"dataframe\">\n",
              "  <thead>\n",
              "    <tr style=\"text-align: right;\">\n",
              "      <th></th>\n",
              "      <th>customer_id</th>\n",
              "      <th>gender</th>\n",
              "    </tr>\n",
              "  </thead>\n",
              "  <tbody>\n",
              "    <tr>\n",
              "      <th>0</th>\n",
              "      <td>10928546</td>\n",
              "      <td>1</td>\n",
              "    </tr>\n",
              "    <tr>\n",
              "      <th>1</th>\n",
              "      <td>69348468</td>\n",
              "      <td>1</td>\n",
              "    </tr>\n",
              "    <tr>\n",
              "      <th>2</th>\n",
              "      <td>61009479</td>\n",
              "      <td>0</td>\n",
              "    </tr>\n",
              "    <tr>\n",
              "      <th>3</th>\n",
              "      <td>74045822</td>\n",
              "      <td>0</td>\n",
              "    </tr>\n",
              "    <tr>\n",
              "      <th>4</th>\n",
              "      <td>27979606</td>\n",
              "      <td>1</td>\n",
              "    </tr>\n",
              "  </tbody>\n",
              "</table>\n",
              "</div>"
            ],
            "text/plain": [
              "   customer_id  gender\n",
              "0     10928546       1\n",
              "1     69348468       1\n",
              "2     61009479       0\n",
              "3     74045822       0\n",
              "4     27979606       1"
            ]
          },
          "metadata": {
            "tags": []
          },
          "execution_count": 5
        }
      ]
    },
    {
      "cell_type": "code",
      "metadata": {
        "colab": {
          "base_uri": "https://localhost:8080/",
          "height": 206
        },
        "id": "tNCp9bX3Aqni",
        "outputId": "e1228e20-31a8-4e75-f8d0-35c77192c642"
      },
      "source": [
        "codes = pd.read_csv('tr_mcc_codes.csv', sep=';')\n",
        "codes.head()"
      ],
      "execution_count": null,
      "outputs": [
        {
          "output_type": "execute_result",
          "data": {
            "text/html": [
              "<div>\n",
              "<style scoped>\n",
              "    .dataframe tbody tr th:only-of-type {\n",
              "        vertical-align: middle;\n",
              "    }\n",
              "\n",
              "    .dataframe tbody tr th {\n",
              "        vertical-align: top;\n",
              "    }\n",
              "\n",
              "    .dataframe thead th {\n",
              "        text-align: right;\n",
              "    }\n",
              "</style>\n",
              "<table border=\"1\" class=\"dataframe\">\n",
              "  <thead>\n",
              "    <tr style=\"text-align: right;\">\n",
              "      <th></th>\n",
              "      <th>mcc_code</th>\n",
              "      <th>mcc_description</th>\n",
              "    </tr>\n",
              "  </thead>\n",
              "  <tbody>\n",
              "    <tr>\n",
              "      <th>0</th>\n",
              "      <td>742</td>\n",
              "      <td>Ветеринарные услуги</td>\n",
              "    </tr>\n",
              "    <tr>\n",
              "      <th>1</th>\n",
              "      <td>1711</td>\n",
              "      <td>Генеральные подрядчики по вентиляции, теплосна...</td>\n",
              "    </tr>\n",
              "    <tr>\n",
              "      <th>2</th>\n",
              "      <td>1731</td>\n",
              "      <td>Подрядчики по электричеству</td>\n",
              "    </tr>\n",
              "    <tr>\n",
              "      <th>3</th>\n",
              "      <td>1799</td>\n",
              "      <td>Подрядчики, специализированная торговля — нигд...</td>\n",
              "    </tr>\n",
              "    <tr>\n",
              "      <th>4</th>\n",
              "      <td>2741</td>\n",
              "      <td>Разнообразные издательства/печатное дело</td>\n",
              "    </tr>\n",
              "  </tbody>\n",
              "</table>\n",
              "</div>"
            ],
            "text/plain": [
              "   mcc_code                                    mcc_description\n",
              "0       742                                Ветеринарные услуги\n",
              "1      1711  Генеральные подрядчики по вентиляции, теплосна...\n",
              "2      1731                        Подрядчики по электричеству\n",
              "3      1799  Подрядчики, специализированная торговля — нигд...\n",
              "4      2741           Разнообразные издательства/печатное дело"
            ]
          },
          "metadata": {
            "tags": []
          },
          "execution_count": 10
        }
      ]
    },
    {
      "cell_type": "code",
      "metadata": {
        "id": "oH6769BhBSEL"
      },
      "source": [
        "# Список категорий\n",
        "# ['Одежда (также нужно искать \"одежды\")', 'Ценные бумаги', 'Образовательные услуги (а также школы, университеты)', 'Прокат автомобилей', 'Видеоигры (искать надо по \"видеоигр\")', 'Программирование', 'Предсказатели будущего']\n",
        "# В качестве значений признаков используйте количество транзакций с тратами и количество транзакций с поступлениями"
      ],
      "execution_count": null,
      "outputs": []
    },
    {
      "cell_type": "code",
      "metadata": {
        "id": "uTTjhar5CgRJ"
      },
      "source": [
        "types = ('одежд', 'ценные бумаги', 'образов', 'школ', 'универ' 'прокат', 'видеоигр', 'программ', 'предсказат')"
      ],
      "execution_count": null,
      "outputs": []
    },
    {
      "cell_type": "code",
      "metadata": {
        "colab": {
          "base_uri": "https://localhost:8080/",
          "height": 226
        },
        "id": "1cw-o6ouHKNM",
        "outputId": "cc5f2a86-cbe0-4373-8d3c-d9afd70283ca"
      },
      "source": [
        "d = {\n",
        "    'customer' : np.array(gender_train.customer_id),\n",
        "     'clothes+' : np.zeros(len(gender_train)), 'clothes-' : np.zeros(len(gender_train)), \n",
        "     'papers+': np.zeros(len(gender_train)), 'papers-': np.zeros(len(gender_train)), \n",
        "     'education+': np.zeros(len(gender_train)), 'education-': np.zeros(len(gender_train)), \n",
        "     'rent+' : np.zeros(len(gender_train)), 'rent-' : np.zeros(len(gender_train)), \n",
        "     'videogames+' : np.zeros(len(gender_train)), 'videogames-' : np.zeros(len(gender_train)), \n",
        "     'programming+' : np.zeros(len(gender_train)), 'programming-' : np.zeros(len(gender_train)), \n",
        "     'predictors+' : np.zeros(len(gender_train)), 'predictors-' : np.zeros(len(gender_train)), \n",
        "     'gender':np.array(gender_train.gender)}\n",
        "\n",
        "data = pd.DataFrame(data=d)\n",
        "data.head()"
      ],
      "execution_count": null,
      "outputs": [
        {
          "output_type": "execute_result",
          "data": {
            "text/html": [
              "<div>\n",
              "<style scoped>\n",
              "    .dataframe tbody tr th:only-of-type {\n",
              "        vertical-align: middle;\n",
              "    }\n",
              "\n",
              "    .dataframe tbody tr th {\n",
              "        vertical-align: top;\n",
              "    }\n",
              "\n",
              "    .dataframe thead th {\n",
              "        text-align: right;\n",
              "    }\n",
              "</style>\n",
              "<table border=\"1\" class=\"dataframe\">\n",
              "  <thead>\n",
              "    <tr style=\"text-align: right;\">\n",
              "      <th></th>\n",
              "      <th>customer</th>\n",
              "      <th>clothes+</th>\n",
              "      <th>clothes-</th>\n",
              "      <th>papers+</th>\n",
              "      <th>papers-</th>\n",
              "      <th>education+</th>\n",
              "      <th>education-</th>\n",
              "      <th>rent+</th>\n",
              "      <th>rent-</th>\n",
              "      <th>videogames+</th>\n",
              "      <th>videogames-</th>\n",
              "      <th>programming+</th>\n",
              "      <th>programming-</th>\n",
              "      <th>predictors+</th>\n",
              "      <th>predictors-</th>\n",
              "      <th>gender</th>\n",
              "    </tr>\n",
              "  </thead>\n",
              "  <tbody>\n",
              "    <tr>\n",
              "      <th>0</th>\n",
              "      <td>10928546</td>\n",
              "      <td>0.0</td>\n",
              "      <td>0.0</td>\n",
              "      <td>0.0</td>\n",
              "      <td>0.0</td>\n",
              "      <td>0.0</td>\n",
              "      <td>0.0</td>\n",
              "      <td>0.0</td>\n",
              "      <td>0.0</td>\n",
              "      <td>0.0</td>\n",
              "      <td>0.0</td>\n",
              "      <td>0.0</td>\n",
              "      <td>0.0</td>\n",
              "      <td>0.0</td>\n",
              "      <td>0.0</td>\n",
              "      <td>1</td>\n",
              "    </tr>\n",
              "    <tr>\n",
              "      <th>1</th>\n",
              "      <td>69348468</td>\n",
              "      <td>0.0</td>\n",
              "      <td>0.0</td>\n",
              "      <td>0.0</td>\n",
              "      <td>0.0</td>\n",
              "      <td>0.0</td>\n",
              "      <td>0.0</td>\n",
              "      <td>0.0</td>\n",
              "      <td>0.0</td>\n",
              "      <td>0.0</td>\n",
              "      <td>0.0</td>\n",
              "      <td>0.0</td>\n",
              "      <td>0.0</td>\n",
              "      <td>0.0</td>\n",
              "      <td>0.0</td>\n",
              "      <td>1</td>\n",
              "    </tr>\n",
              "    <tr>\n",
              "      <th>2</th>\n",
              "      <td>61009479</td>\n",
              "      <td>0.0</td>\n",
              "      <td>0.0</td>\n",
              "      <td>0.0</td>\n",
              "      <td>0.0</td>\n",
              "      <td>0.0</td>\n",
              "      <td>0.0</td>\n",
              "      <td>0.0</td>\n",
              "      <td>0.0</td>\n",
              "      <td>0.0</td>\n",
              "      <td>0.0</td>\n",
              "      <td>0.0</td>\n",
              "      <td>0.0</td>\n",
              "      <td>0.0</td>\n",
              "      <td>0.0</td>\n",
              "      <td>0</td>\n",
              "    </tr>\n",
              "    <tr>\n",
              "      <th>3</th>\n",
              "      <td>74045822</td>\n",
              "      <td>0.0</td>\n",
              "      <td>0.0</td>\n",
              "      <td>0.0</td>\n",
              "      <td>0.0</td>\n",
              "      <td>0.0</td>\n",
              "      <td>0.0</td>\n",
              "      <td>0.0</td>\n",
              "      <td>0.0</td>\n",
              "      <td>0.0</td>\n",
              "      <td>0.0</td>\n",
              "      <td>0.0</td>\n",
              "      <td>0.0</td>\n",
              "      <td>0.0</td>\n",
              "      <td>0.0</td>\n",
              "      <td>0</td>\n",
              "    </tr>\n",
              "    <tr>\n",
              "      <th>4</th>\n",
              "      <td>27979606</td>\n",
              "      <td>0.0</td>\n",
              "      <td>0.0</td>\n",
              "      <td>0.0</td>\n",
              "      <td>0.0</td>\n",
              "      <td>0.0</td>\n",
              "      <td>0.0</td>\n",
              "      <td>0.0</td>\n",
              "      <td>0.0</td>\n",
              "      <td>0.0</td>\n",
              "      <td>0.0</td>\n",
              "      <td>0.0</td>\n",
              "      <td>0.0</td>\n",
              "      <td>0.0</td>\n",
              "      <td>0.0</td>\n",
              "      <td>1</td>\n",
              "    </tr>\n",
              "  </tbody>\n",
              "</table>\n",
              "</div>"
            ],
            "text/plain": [
              "   customer  clothes+  clothes-  ...  predictors+  predictors-  gender\n",
              "0  10928546       0.0       0.0  ...          0.0          0.0       1\n",
              "1  69348468       0.0       0.0  ...          0.0          0.0       1\n",
              "2  61009479       0.0       0.0  ...          0.0          0.0       0\n",
              "3  74045822       0.0       0.0  ...          0.0          0.0       0\n",
              "4  27979606       0.0       0.0  ...          0.0          0.0       1\n",
              "\n",
              "[5 rows x 16 columns]"
            ]
          },
          "metadata": {
            "tags": []
          },
          "execution_count": 143
        }
      ]
    },
    {
      "cell_type": "code",
      "metadata": {
        "colab": {
          "base_uri": "https://localhost:8080/"
        },
        "id": "zrdJKW6V-W5x",
        "outputId": "15970d62-d87c-4ddc-a3c5-32354f2d5de1"
      },
      "source": [
        "for i, row in transactions.iterrows() :\n",
        "  element = codes[codes.mcc_code == row.mcc_code].mcc_description.values[0].lower()\n",
        "  sum = row.amount\n",
        "\n",
        "  if i % 100_000 == 0:\n",
        "    print(i)\n",
        "\n",
        "  if element.startswith(types):\n",
        "    if element.startswith('одежд'):\n",
        "      if(sum > 0):\n",
        "        data.loc[data['customer'] == row.customer_id, 'clothes+'] = data[data.customer == row.customer_id]['clothes+'] + 1\n",
        "      else:\n",
        "        data.loc[data['customer'] == row.customer_id, 'clothes-'] = data[data.customer == row.customer_id]['clothes-'] + 1\n",
        "      \n",
        "    elif element.startswith('ценные бумаги'):\n",
        "      if sum > 0:\n",
        "        data.loc[data['customer'] == row.customer_id, 'papers+'] = data[data['customer'] == row.customer_id]['papers+'] + 1\n",
        "      else:\n",
        "        data.loc[data['customer'] == row.customer_id, 'papers-'] = data[data['customer'] == row.customer_id]['papers-'] + 1\n",
        "\n",
        "    elif element.startswith('образов') or element.startswith('школ') or element.startswith('универ'):\n",
        "      if sum > 0:\n",
        "        data.loc[data['customer'] == row.customer_id, 'education+'] = data[data['customer'] == row.customer_id]['education+'] + 1\n",
        "      else:\n",
        "        data.loc[data['customer'] == row.customer_id, 'education-'] = data[data['customer'] == row.customer_id]['education-'] + 1\n",
        "\n",
        "    elif element.startswith('прокат'):\n",
        "      if sum > 0:\n",
        "        data.loc[data['customer'] == row.customer_id, 'rent+'] = data[data['customer'] == row.customer_id]['rent+'] + 1\n",
        "      else:\n",
        "        data.loc[data['customer'] == row.customer_id, 'rent-'] = data[data['customer'] == row.customer_id]['rent-'] + 1\n",
        "\n",
        "    elif element.startswith('видеоигр'):\n",
        "      if sum > 0:\n",
        "        data.loc[data['customer'] == row.customer_id, 'videogames+'] = data[data['customer'] == row.customer_id]['videogames+'] + 1\n",
        "      else:\n",
        "        data.loc[data['customer'] == row.customer_id, 'videogames'] = data[data['customer'] == row.customer_id]['videogames-'] + 1\n",
        "      \n",
        "    elif element.startswith('програм'):\n",
        "      if sum > 0:\n",
        "        data.loc[data['customer'] == row.customer_id, 'programming+'] = data[data['customer'] == row.customer_id]['programming+'] + 1\n",
        "      else:\n",
        "        data.loc[data['customer'] == row.customer_id, 'programming-'] = data[data['customer'] == row.customer_id]['programming-'] + 1\n",
        "\n",
        "    elif element.startswith('предсказат'):\n",
        "      if sum > 0:\n",
        "        data.loc[data['customer'] == row.customer_id, 'predictors+'] = data[data['customer'] == row.customer_id]['predictors+'] + 1\n",
        "      else:\n",
        "        data.loc[data['customer'] == row.customer_id, 'predictors-'] = data[data['customer'] == row.customer_id]['predictors-'] + 1"
      ],
      "execution_count": null,
      "outputs": [
        {
          "output_type": "stream",
          "text": [
            "0\n",
            "100000\n",
            "200000\n",
            "300000\n",
            "400000\n",
            "500000\n",
            "600000\n",
            "700000\n",
            "800000\n",
            "900000\n"
          ],
          "name": "stdout"
        }
      ]
    },
    {
      "cell_type": "markdown",
      "metadata": {
        "id": "KhVjH2rvdIwY"
      },
      "source": [
        ""
      ]
    },
    {
      "cell_type": "code",
      "metadata": {
        "id": "Ea58AeisfDXx"
      },
      "source": [
        "data_copy = data.copy()"
      ],
      "execution_count": null,
      "outputs": []
    },
    {
      "cell_type": "code",
      "metadata": {
        "id": "DyO18aL32Ma4"
      },
      "source": [
        "# удалим пустые строки\n",
        "# и проверим новый \n",
        "# шейп"
      ],
      "execution_count": null,
      "outputs": []
    },
    {
      "cell_type": "code",
      "metadata": {
        "colab": {
          "base_uri": "https://localhost:8080/"
        },
        "id": "xbYh97fNdHvD",
        "outputId": "f621b8b2-c438-4748-d123-2bad6313de2f"
      },
      "source": [
        "counter = 0\n",
        "for i, row in data_copy.iterrows():\n",
        "  if row[1:len(row)-1].sum() == 0:\n",
        "    counter = counter + 1\n",
        "    data_copy = data_copy.drop(i, axis=0)\n",
        "counter"
      ],
      "execution_count": null,
      "outputs": [
        {
          "output_type": "execute_result",
          "data": {
            "text/plain": [
              "7983"
            ]
          },
          "metadata": {
            "tags": []
          },
          "execution_count": 224
        }
      ]
    },
    {
      "cell_type": "code",
      "metadata": {
        "colab": {
          "base_uri": "https://localhost:8080/"
        },
        "id": "CEjm3zIagThV",
        "outputId": "8fd1f5e7-271c-4a4c-8952-dd2332fe8c2b"
      },
      "source": [
        "counter = 0\n",
        "for i, row in data_copy.iterrows():\n",
        "  if row[1:len(row)-1].sum() == 0:\n",
        "    counter = counter + 1\n",
        "counter"
      ],
      "execution_count": null,
      "outputs": [
        {
          "output_type": "execute_result",
          "data": {
            "text/plain": [
              "0"
            ]
          },
          "metadata": {
            "tags": []
          },
          "execution_count": 225
        }
      ]
    },
    {
      "cell_type": "code",
      "metadata": {
        "colab": {
          "base_uri": "https://localhost:8080/"
        },
        "id": "N_PTsKSyhBXZ",
        "outputId": "57d6daa3-5ad8-4d2a-ddd1-b97618338725"
      },
      "source": [
        "data_copy.shape"
      ],
      "execution_count": null,
      "outputs": [
        {
          "output_type": "execute_result",
          "data": {
            "text/plain": [
              "(417, 16)"
            ]
          },
          "metadata": {
            "tags": []
          },
          "execution_count": 226
        }
      ]
    },
    {
      "cell_type": "code",
      "metadata": {
        "colab": {
          "base_uri": "https://localhost:8080/",
          "height": 226
        },
        "id": "iVnz8u-zkKEk",
        "outputId": "88f0474e-0da4-4296-9e82-06a0c953159f"
      },
      "source": [
        "data_copy.head()"
      ],
      "execution_count": null,
      "outputs": [
        {
          "output_type": "execute_result",
          "data": {
            "text/html": [
              "<div>\n",
              "<style scoped>\n",
              "    .dataframe tbody tr th:only-of-type {\n",
              "        vertical-align: middle;\n",
              "    }\n",
              "\n",
              "    .dataframe tbody tr th {\n",
              "        vertical-align: top;\n",
              "    }\n",
              "\n",
              "    .dataframe thead th {\n",
              "        text-align: right;\n",
              "    }\n",
              "</style>\n",
              "<table border=\"1\" class=\"dataframe\">\n",
              "  <thead>\n",
              "    <tr style=\"text-align: right;\">\n",
              "      <th></th>\n",
              "      <th>customer</th>\n",
              "      <th>clothes+</th>\n",
              "      <th>clothes-</th>\n",
              "      <th>papers+</th>\n",
              "      <th>papers-</th>\n",
              "      <th>education+</th>\n",
              "      <th>education-</th>\n",
              "      <th>rent+</th>\n",
              "      <th>rent-</th>\n",
              "      <th>videogames+</th>\n",
              "      <th>videogames-</th>\n",
              "      <th>programming+</th>\n",
              "      <th>programming-</th>\n",
              "      <th>predictors+</th>\n",
              "      <th>predictors-</th>\n",
              "      <th>gender</th>\n",
              "    </tr>\n",
              "  </thead>\n",
              "  <tbody>\n",
              "    <tr>\n",
              "      <th>16</th>\n",
              "      <td>34174139</td>\n",
              "      <td>0.0</td>\n",
              "      <td>2.0</td>\n",
              "      <td>0.0</td>\n",
              "      <td>0.0</td>\n",
              "      <td>0.0</td>\n",
              "      <td>0.0</td>\n",
              "      <td>0.0</td>\n",
              "      <td>0.0</td>\n",
              "      <td>0.0</td>\n",
              "      <td>0.0</td>\n",
              "      <td>0.0</td>\n",
              "      <td>0.0</td>\n",
              "      <td>0.0</td>\n",
              "      <td>0.0</td>\n",
              "      <td>0</td>\n",
              "    </tr>\n",
              "    <tr>\n",
              "      <th>31</th>\n",
              "      <td>16422350</td>\n",
              "      <td>0.0</td>\n",
              "      <td>3.0</td>\n",
              "      <td>0.0</td>\n",
              "      <td>0.0</td>\n",
              "      <td>0.0</td>\n",
              "      <td>0.0</td>\n",
              "      <td>0.0</td>\n",
              "      <td>0.0</td>\n",
              "      <td>0.0</td>\n",
              "      <td>0.0</td>\n",
              "      <td>0.0</td>\n",
              "      <td>0.0</td>\n",
              "      <td>0.0</td>\n",
              "      <td>0.0</td>\n",
              "      <td>0</td>\n",
              "    </tr>\n",
              "    <tr>\n",
              "      <th>44</th>\n",
              "      <td>10493682</td>\n",
              "      <td>0.0</td>\n",
              "      <td>1.0</td>\n",
              "      <td>0.0</td>\n",
              "      <td>0.0</td>\n",
              "      <td>0.0</td>\n",
              "      <td>0.0</td>\n",
              "      <td>0.0</td>\n",
              "      <td>0.0</td>\n",
              "      <td>0.0</td>\n",
              "      <td>0.0</td>\n",
              "      <td>0.0</td>\n",
              "      <td>0.0</td>\n",
              "      <td>0.0</td>\n",
              "      <td>0.0</td>\n",
              "      <td>0</td>\n",
              "    </tr>\n",
              "    <tr>\n",
              "      <th>45</th>\n",
              "      <td>79496375</td>\n",
              "      <td>0.0</td>\n",
              "      <td>5.0</td>\n",
              "      <td>0.0</td>\n",
              "      <td>0.0</td>\n",
              "      <td>0.0</td>\n",
              "      <td>0.0</td>\n",
              "      <td>0.0</td>\n",
              "      <td>0.0</td>\n",
              "      <td>0.0</td>\n",
              "      <td>0.0</td>\n",
              "      <td>0.0</td>\n",
              "      <td>0.0</td>\n",
              "      <td>0.0</td>\n",
              "      <td>0.0</td>\n",
              "      <td>1</td>\n",
              "    </tr>\n",
              "    <tr>\n",
              "      <th>46</th>\n",
              "      <td>27868636</td>\n",
              "      <td>0.0</td>\n",
              "      <td>2.0</td>\n",
              "      <td>0.0</td>\n",
              "      <td>0.0</td>\n",
              "      <td>0.0</td>\n",
              "      <td>0.0</td>\n",
              "      <td>0.0</td>\n",
              "      <td>0.0</td>\n",
              "      <td>0.0</td>\n",
              "      <td>0.0</td>\n",
              "      <td>0.0</td>\n",
              "      <td>0.0</td>\n",
              "      <td>0.0</td>\n",
              "      <td>0.0</td>\n",
              "      <td>1</td>\n",
              "    </tr>\n",
              "  </tbody>\n",
              "</table>\n",
              "</div>"
            ],
            "text/plain": [
              "    customer  clothes+  clothes-  ...  predictors+  predictors-  gender\n",
              "16  34174139       0.0       2.0  ...          0.0          0.0       0\n",
              "31  16422350       0.0       3.0  ...          0.0          0.0       0\n",
              "44  10493682       0.0       1.0  ...          0.0          0.0       0\n",
              "45  79496375       0.0       5.0  ...          0.0          0.0       1\n",
              "46  27868636       0.0       2.0  ...          0.0          0.0       1\n",
              "\n",
              "[5 rows x 16 columns]"
            ]
          },
          "metadata": {
            "tags": []
          },
          "execution_count": 227
        }
      ]
    },
    {
      "cell_type": "markdown",
      "metadata": {
        "id": "hiXRvXuACblp"
      },
      "source": [
        "# Задание 2"
      ]
    },
    {
      "cell_type": "markdown",
      "metadata": {
        "id": "RE1BmT7dCetf"
      },
      "source": [
        "Модель - многослойная нейронная сеть с двумя скрытыми слоями и с dropout. Количество нейронов в каждом слое выбираете самостоятельно.\r\n",
        "Функции активации, метод оптимизации, скорость обучения, вероятность dropout - выбираете самостоятельно\r\n",
        "\r\n",
        "Модель нужно строить с помощью keras или torch\r\n",
        "\r\n",
        "Нужно отдельно перечислить все гиперпараметры и их значения вот в таком формате (значения приведены для примера, у вас могут быть другие):\r\n",
        "\r\n",
        "* количество эпох: 5\r\n",
        "* скорость обучения: 0.0001\r\n",
        "* функция активация: ReLU\r\n",
        "* и т.д.\r\n",
        "\r\n",
        "Настроить параметры модели."
      ]
    },
    {
      "cell_type": "code",
      "metadata": {
        "id": "u5wiJNBmk7lB"
      },
      "source": [
        "import torch\n",
        "import torchvision\n",
        "\n",
        "from sklearn import preprocessing\n",
        "from sklearn.model_selection import train_test_split \n",
        "\n",
        "from keras.optimizers import Adam\n",
        "from keras.layers import Dropout\n",
        "from keras.optimizers import SGD\n",
        "from sklearn.metrics import classification_report"
      ],
      "execution_count": null,
      "outputs": []
    },
    {
      "cell_type": "code",
      "metadata": {
        "colab": {
          "base_uri": "https://localhost:8080/"
        },
        "id": "rUvcn5Tuk_j_",
        "outputId": "e8031d3c-c700-4a85-bf61-e39ee5de1353"
      },
      "source": [
        "%tensorflow_version 1.x\n",
        "# Импортируем сам keras\n",
        "import keras\n",
        "# Последовательный тип модели\n",
        "from keras.models import Sequential\n",
        "# Импортируем полносвязный слой, слои активации и слой, превращающий картинку в вектор\n",
        "from keras.layers import Dense, Activation, Flatten\n",
        "# Импортируем датасеты, чтобы вытащить оттуда нужные нам данные\n",
        "import keras.datasets\n",
        "\n",
        "import numpy as np\n",
        "from matplotlib import pyplot as plt\n",
        "\n",
        "# Эти библиотеки отключают лишние предупреждения от библиотек, в частности,\n",
        "# tensorflow, чтобы не засорять вывод наших результатов\n",
        "import os\n",
        "os.environ['TF_CPP_MIN_LOG_LEVEL'] = '3' \n",
        "from tensorflow.python.util import deprecation\n",
        "deprecation._PRINT_DEPRECATION_WARNINGS = False\n",
        "import warnings\n",
        "warnings.filterwarnings(\"ignore\")\n",
        "\n",
        "# keras является оболочкой для более низкоуровневых библиотек, \n",
        "# в нашем случае мы используем tensorflow, у которого на данный момент \n",
        "# поддерживаются две версии, установим первую\n",
        "import tensorflow.compat.v1 as tf\n",
        "tf.disable_v2_behavior()"
      ],
      "execution_count": null,
      "outputs": [
        {
          "output_type": "stream",
          "text": [
            "TensorFlow 1.x selected.\n"
          ],
          "name": "stdout"
        },
        {
          "output_type": "stream",
          "text": [
            "Using TensorFlow backend.\n"
          ],
          "name": "stderr"
        }
      ]
    },
    {
      "cell_type": "code",
      "metadata": {
        "id": "Cwv1lHqrlWWp"
      },
      "source": [
        "x_train, x_test, y_train, y_test = train_test_split(data_copy.drop([\"gender\", \"customer\"], axis=1), data_copy.gender, train_size = 0.7)"
      ],
      "execution_count": null,
      "outputs": []
    },
    {
      "cell_type": "code",
      "metadata": {
        "id": "xGmIIH72lj7I"
      },
      "source": [
        "x_train = np.array(x_train)\n",
        "y_train = np.array(y_train)\n",
        "\n",
        "x_test = np.array(x_test)\n",
        "y_test = np.array(y_test)\n",
        "\n",
        "y_train=keras.utils.to_categorical(y_train,2)\n",
        "# y_test=keras.utils.to_categorical(y_test,2)"
      ],
      "execution_count": null,
      "outputs": []
    },
    {
      "cell_type": "code",
      "metadata": {
        "id": "SChRMLFjmTtY"
      },
      "source": [
        "# Min and max value for each row\n",
        "def dataset_minmax(dataset):\n",
        "\tminmax = list()\n",
        "\tfor i in range(len(dataset[0])):\n",
        "\t\tcol_values = [row[i] for row in dataset]\n",
        "\t\tvalue_min = min(col_values)\n",
        "\t\tvalue_max = max(col_values)\n",
        "\t\tminmax.append([value_min, value_max])\n",
        "\treturn minmax\n",
        "\n",
        "# Each row in range from 0-1\n",
        "def normalize_dataset(dataset, minmax):\n",
        "  for row in dataset:\n",
        "    for i in range(len(row)):\n",
        "      if (minmax[i][1] - minmax[i][0] != 0):\n",
        "        row[i] = (row[i] - minmax[i][0]) / (minmax[i][1] - minmax[i][0])"
      ],
      "execution_count": null,
      "outputs": []
    },
    {
      "cell_type": "code",
      "metadata": {
        "id": "YMd5u5aNmWZc"
      },
      "source": [
        "minmax = dataset_minmax(x_train)\n",
        "normalize_dataset(x_train, minmax)"
      ],
      "execution_count": null,
      "outputs": []
    },
    {
      "cell_type": "code",
      "metadata": {
        "id": "coEVlauOzd_9"
      },
      "source": [
        "minmax = dataset_minmax(x_test)\n",
        "normalize_dataset(x_test, minmax)"
      ],
      "execution_count": null,
      "outputs": []
    },
    {
      "cell_type": "code",
      "metadata": {
        "colab": {
          "base_uri": "https://localhost:8080/"
        },
        "id": "b4r-O-SAm2pC",
        "outputId": "053eeb1b-45cd-4f0d-c567-a996d9937fdd"
      },
      "source": [
        "x_train"
      ],
      "execution_count": null,
      "outputs": [
        {
          "output_type": "execute_result",
          "data": {
            "text/plain": [
              "array([[0.        , 0.85714286, 0.        , ..., 0.        , 0.        ,\n",
              "        0.        ],\n",
              "       [0.        , 0.04761905, 0.        , ..., 0.        , 0.        ,\n",
              "        0.        ],\n",
              "       [0.        , 0.        , 0.        , ..., 0.        , 0.        ,\n",
              "        0.        ],\n",
              "       ...,\n",
              "       [0.        , 0.0952381 , 0.        , ..., 0.        , 0.        ,\n",
              "        0.        ],\n",
              "       [0.        , 0.04761905, 0.        , ..., 0.        , 0.        ,\n",
              "        0.        ],\n",
              "       [0.        , 0.61904762, 0.        , ..., 0.        , 0.        ,\n",
              "        0.        ]])"
            ]
          },
          "metadata": {
            "tags": []
          },
          "execution_count": 526
        }
      ]
    },
    {
      "cell_type": "code",
      "metadata": {
        "colab": {
          "base_uri": "https://localhost:8080/"
        },
        "id": "gD7TIj2b2xnd",
        "outputId": "0a4316dd-7c35-405b-a25b-084246127001"
      },
      "source": [
        "len(x_train)"
      ],
      "execution_count": null,
      "outputs": [
        {
          "output_type": "execute_result",
          "data": {
            "text/plain": [
              "291"
            ]
          },
          "metadata": {
            "tags": []
          },
          "execution_count": 540
        }
      ]
    },
    {
      "cell_type": "code",
      "metadata": {
        "id": "TMtkvs9SoZch"
      },
      "source": [
        "input_size = x_train[0].shape"
      ],
      "execution_count": null,
      "outputs": []
    },
    {
      "cell_type": "code",
      "metadata": {
        "colab": {
          "base_uri": "https://localhost:8080/"
        },
        "id": "kO_HxGaxot-g",
        "outputId": "ff4e76b2-2a41-444f-a9b9-d803452b5768"
      },
      "source": [
        "input_size"
      ],
      "execution_count": null,
      "outputs": [
        {
          "output_type": "execute_result",
          "data": {
            "text/plain": [
              "(14,)"
            ]
          },
          "metadata": {
            "tags": []
          },
          "execution_count": 510
        }
      ]
    },
    {
      "cell_type": "code",
      "metadata": {
        "colab": {
          "base_uri": "https://localhost:8080/"
        },
        "id": "vwhFk4rXn5H8",
        "outputId": "12cf59e9-8e09-416d-99b3-0ce5657cea56"
      },
      "source": [
        "model = Sequential()\n",
        "\n",
        "model.add(Dense(units=40, input_shape=input_size))\n",
        "\n",
        "model.add(Activation('relu'))\n",
        "\n",
        "model.add(Dropout(0.2, input_shape=input_size))\n",
        "\n",
        "model.add(Dense(units=40, input_shape=input_size))\n",
        "\n",
        "model.add(Activation('relu'))\n",
        "\n",
        "model.add(Dense(units=2))\n",
        "\n",
        "model.add(Activation('softmax'))\n",
        "\n",
        "# sgd = SGD(lr=0.1, momentum=0.3)\n",
        "\n",
        "model.compile(loss='mean_squared_error',\n",
        "              optimizer=Adam(lr=0.001),\n",
        "              metrics=['accuracy'])\n",
        "\n",
        "model.fit(x_train, y_train, batch_size=20, epochs=50)"
      ],
      "execution_count": null,
      "outputs": [
        {
          "output_type": "stream",
          "text": [
            "Epoch 1/50\n",
            "291/291 [==============================] - 1s 2ms/step - loss: 0.2515 - accuracy: 0.4364\n",
            "Epoch 2/50\n",
            "291/291 [==============================] - 0s 224us/step - loss: 0.2472 - accuracy: 0.6151\n",
            "Epoch 3/50\n",
            "291/291 [==============================] - 0s 223us/step - loss: 0.2442 - accuracy: 0.6186\n",
            "Epoch 4/50\n",
            "291/291 [==============================] - 0s 260us/step - loss: 0.2403 - accuracy: 0.6220\n",
            "Epoch 5/50\n",
            "291/291 [==============================] - 0s 251us/step - loss: 0.2376 - accuracy: 0.6254\n",
            "Epoch 6/50\n",
            "291/291 [==============================] - 0s 243us/step - loss: 0.2356 - accuracy: 0.6289\n",
            "Epoch 7/50\n",
            "291/291 [==============================] - 0s 241us/step - loss: 0.2346 - accuracy: 0.6392\n",
            "Epoch 8/50\n",
            "291/291 [==============================] - 0s 234us/step - loss: 0.2327 - accuracy: 0.6254\n",
            "Epoch 9/50\n",
            "291/291 [==============================] - 0s 247us/step - loss: 0.2321 - accuracy: 0.6357\n",
            "Epoch 10/50\n",
            "291/291 [==============================] - 0s 256us/step - loss: 0.2286 - accuracy: 0.6426\n",
            "Epoch 11/50\n",
            "291/291 [==============================] - 0s 186us/step - loss: 0.2308 - accuracy: 0.6460\n",
            "Epoch 12/50\n",
            "291/291 [==============================] - 0s 188us/step - loss: 0.2282 - accuracy: 0.6495\n",
            "Epoch 13/50\n",
            "291/291 [==============================] - 0s 201us/step - loss: 0.2281 - accuracy: 0.6426\n",
            "Epoch 14/50\n",
            "291/291 [==============================] - 0s 198us/step - loss: 0.2266 - accuracy: 0.6426\n",
            "Epoch 15/50\n",
            "291/291 [==============================] - 0s 184us/step - loss: 0.2262 - accuracy: 0.6495\n",
            "Epoch 16/50\n",
            "291/291 [==============================] - 0s 187us/step - loss: 0.2235 - accuracy: 0.6529\n",
            "Epoch 17/50\n",
            "291/291 [==============================] - 0s 191us/step - loss: 0.2241 - accuracy: 0.6529\n",
            "Epoch 18/50\n",
            "291/291 [==============================] - 0s 224us/step - loss: 0.2251 - accuracy: 0.6529\n",
            "Epoch 19/50\n",
            "291/291 [==============================] - 0s 214us/step - loss: 0.2233 - accuracy: 0.6460\n",
            "Epoch 20/50\n",
            "291/291 [==============================] - 0s 243us/step - loss: 0.2250 - accuracy: 0.6529\n",
            "Epoch 21/50\n",
            "291/291 [==============================] - 0s 190us/step - loss: 0.2248 - accuracy: 0.6529\n",
            "Epoch 22/50\n",
            "291/291 [==============================] - 0s 224us/step - loss: 0.2268 - accuracy: 0.6495\n",
            "Epoch 23/50\n",
            "291/291 [==============================] - 0s 182us/step - loss: 0.2259 - accuracy: 0.6460\n",
            "Epoch 24/50\n",
            "291/291 [==============================] - 0s 192us/step - loss: 0.2240 - accuracy: 0.6495\n",
            "Epoch 25/50\n",
            "291/291 [==============================] - 0s 189us/step - loss: 0.2238 - accuracy: 0.6460\n",
            "Epoch 26/50\n",
            "291/291 [==============================] - 0s 187us/step - loss: 0.2223 - accuracy: 0.6598\n",
            "Epoch 27/50\n",
            "291/291 [==============================] - 0s 187us/step - loss: 0.2233 - accuracy: 0.6564\n",
            "Epoch 28/50\n",
            "291/291 [==============================] - 0s 183us/step - loss: 0.2240 - accuracy: 0.6564\n",
            "Epoch 29/50\n",
            "291/291 [==============================] - 0s 197us/step - loss: 0.2245 - accuracy: 0.6529\n",
            "Epoch 30/50\n",
            "291/291 [==============================] - 0s 179us/step - loss: 0.2208 - accuracy: 0.6495\n",
            "Epoch 31/50\n",
            "291/291 [==============================] - 0s 183us/step - loss: 0.2218 - accuracy: 0.6495\n",
            "Epoch 32/50\n",
            "291/291 [==============================] - 0s 190us/step - loss: 0.2234 - accuracy: 0.6564\n",
            "Epoch 33/50\n",
            "291/291 [==============================] - 0s 183us/step - loss: 0.2215 - accuracy: 0.6529\n",
            "Epoch 34/50\n",
            "291/291 [==============================] - 0s 184us/step - loss: 0.2197 - accuracy: 0.6632\n",
            "Epoch 35/50\n",
            "291/291 [==============================] - 0s 195us/step - loss: 0.2219 - accuracy: 0.6529\n",
            "Epoch 36/50\n",
            "291/291 [==============================] - 0s 221us/step - loss: 0.2237 - accuracy: 0.6529\n",
            "Epoch 37/50\n",
            "291/291 [==============================] - 0s 188us/step - loss: 0.2223 - accuracy: 0.6529\n",
            "Epoch 38/50\n",
            "291/291 [==============================] - 0s 188us/step - loss: 0.2217 - accuracy: 0.6529\n",
            "Epoch 39/50\n",
            "291/291 [==============================] - 0s 196us/step - loss: 0.2201 - accuracy: 0.6529\n",
            "Epoch 40/50\n",
            "291/291 [==============================] - 0s 187us/step - loss: 0.2226 - accuracy: 0.6564\n",
            "Epoch 41/50\n",
            "291/291 [==============================] - 0s 185us/step - loss: 0.2195 - accuracy: 0.6598\n",
            "Epoch 42/50\n",
            "291/291 [==============================] - 0s 236us/step - loss: 0.2213 - accuracy: 0.6632\n",
            "Epoch 43/50\n",
            "291/291 [==============================] - 0s 215us/step - loss: 0.2210 - accuracy: 0.6564\n",
            "Epoch 44/50\n",
            "291/291 [==============================] - 0s 198us/step - loss: 0.2240 - accuracy: 0.6564\n",
            "Epoch 45/50\n",
            "291/291 [==============================] - 0s 195us/step - loss: 0.2219 - accuracy: 0.6564\n",
            "Epoch 46/50\n",
            "291/291 [==============================] - 0s 198us/step - loss: 0.2191 - accuracy: 0.6529\n",
            "Epoch 47/50\n",
            "291/291 [==============================] - 0s 186us/step - loss: 0.2185 - accuracy: 0.6598\n",
            "Epoch 48/50\n",
            "291/291 [==============================] - 0s 186us/step - loss: 0.2189 - accuracy: 0.6598\n",
            "Epoch 49/50\n",
            "291/291 [==============================] - 0s 189us/step - loss: 0.2192 - accuracy: 0.6632\n",
            "Epoch 50/50\n",
            "291/291 [==============================] - 0s 180us/step - loss: 0.2181 - accuracy: 0.6632\n"
          ],
          "name": "stdout"
        },
        {
          "output_type": "execute_result",
          "data": {
            "text/plain": [
              "<keras.callbacks.callbacks.History at 0x7f7b6890cd68>"
            ]
          },
          "metadata": {
            "tags": []
          },
          "execution_count": 528
        }
      ]
    },
    {
      "cell_type": "code",
      "metadata": {
        "id": "cr2P6GX_1Y_b"
      },
      "source": [
        "    # количество эпох: 50\n",
        "    # скорость обучения: 0.001\n",
        "    # функция активация: ReLU\n",
        "    # оптимизатор: адам\n",
        "    # batch size: 20\n",
        "    # кол-во нейронов: по 40 на слой"
      ],
      "execution_count": null,
      "outputs": []
    },
    {
      "cell_type": "markdown",
      "metadata": {
        "id": "vjOJsBFsDOll"
      },
      "source": [
        "# Задание 3"
      ]
    },
    {
      "cell_type": "markdown",
      "metadata": {
        "id": "FXHBaQF1CnuI"
      },
      "source": [
        "\r\n",
        "Проверить качество модели не менее чем на трёх разных метриках. Вывести эти значения."
      ]
    },
    {
      "cell_type": "markdown",
      "metadata": {
        "id": "jnuaWWNID2O8"
      },
      "source": [
        "После завершения контрольной работы, дайте ссылку на colab в отдельном followup в своей теме на Piazza. Дайте разрешение на его просмотр.\r\n",
        "\r\n",
        "Не забудьте запустить код в последней ячейке для контроля времени выполнения."
      ]
    },
    {
      "cell_type": "code",
      "metadata": {
        "id": "3eLVZrtBzqLl"
      },
      "source": [
        "pred = model.predict_classes(x_test)"
      ],
      "execution_count": null,
      "outputs": []
    },
    {
      "cell_type": "code",
      "metadata": {
        "colab": {
          "base_uri": "https://localhost:8080/"
        },
        "id": "X3wUkm19xcBm",
        "outputId": "a67999e6-9060-48f3-cd99-4b23fdd04265"
      },
      "source": [
        "print(classification_report(y_test, pred, target_names=[\"0\", \"1\"]))"
      ],
      "execution_count": null,
      "outputs": [
        {
          "output_type": "stream",
          "text": [
            "              precision    recall  f1-score   support\n",
            "\n",
            "           0       0.69      1.00      0.82        82\n",
            "           1       1.00      0.16      0.27        44\n",
            "\n",
            "    accuracy                           0.71       126\n",
            "   macro avg       0.84      0.58      0.55       126\n",
            "weighted avg       0.80      0.71      0.63       126\n",
            "\n"
          ],
          "name": "stdout"
        }
      ]
    },
    {
      "cell_type": "code",
      "metadata": {
        "id": "fJ1wmMO4D8jN",
        "colab": {
          "base_uri": "https://localhost:8080/"
        },
        "outputId": "80d8a81a-ec2b-4faa-9aa0-d895ba79d214"
      },
      "source": [
        "from datetime import datetime\r\n",
        "current_datetime = datetime.now()\r\n",
        "print(current_datetime)"
      ],
      "execution_count": null,
      "outputs": [
        {
          "output_type": "stream",
          "text": [
            "2020-12-21 15:01:41.957343\n"
          ],
          "name": "stdout"
        }
      ]
    }
  ]
}