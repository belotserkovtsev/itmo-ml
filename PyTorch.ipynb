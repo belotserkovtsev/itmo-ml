{
  "nbformat": 4,
  "nbformat_minor": 0,
  "metadata": {
    "colab": {
      "name": "Копия блокнота \"test 7.1 pytorch tasks.ipynb\"",
      "provenance": [],
      "collapsed_sections": []
    },
    "kernelspec": {
      "display_name": "Python 3",
      "language": "python",
      "name": "python3"
    },
    "language_info": {
      "codemirror_mode": {
        "name": "ipython",
        "version": 3
      },
      "file_extension": ".py",
      "mimetype": "text/x-python",
      "name": "python",
      "nbconvert_exporter": "python",
      "pygments_lexer": "ipython3",
      "version": "3.6.5"
    },
    "accelerator": "GPU"
  },
  "cells": [
    {
      "cell_type": "markdown",
      "metadata": {
        "id": "vcnGdgw_YJ8u"
      },
      "source": [
        "# PyTorch. Основы: синтаксис, torch.cuda и torch.autograd\n",
        "\n",
        "## Задание 7.1"
      ]
    },
    {
      "cell_type": "code",
      "metadata": {
        "id": "RtyozNmmYJ89"
      },
      "source": [
        "import torch\n",
        "import matplotlib.pyplot as plt"
      ],
      "execution_count": null,
      "outputs": []
    },
    {
      "cell_type": "markdown",
      "metadata": {
        "id": "ny4-Qi2wYJ-6"
      },
      "source": [
        "### Задача 1"
      ]
    },
    {
      "cell_type": "markdown",
      "metadata": {
        "id": "IWxlFq0bYJ-_"
      },
      "source": [
        "1). Создайте два вещественных тензора: `a` размером (3, 4) и `b` размером (12,)   \n",
        "2). Создайте тензор `c`, являющийся тензором `b`, но размера (2, 2, 3)  \n",
        "3). Выведите первый столбец матрицы `a` с помощью индексации"
      ]
    },
    {
      "cell_type": "code",
      "metadata": {
        "id": "3oxZuk3yYJ_A",
        "colab": {
          "base_uri": "https://localhost:8080/"
        },
        "outputId": "c632088d-4076-4f9b-c46a-47db8740b542"
      },
      "source": [
        "# 1\n",
        "a = torch.zeros([3, 4]).float()\n",
        "b = torch.zeros([12]).float()\n",
        "\n",
        "# 2\n",
        "c = b.reshape(2, 2, 3)\n",
        "\n",
        "# 3\n",
        "a[:,0]"
      ],
      "execution_count": null,
      "outputs": [
        {
          "output_type": "execute_result",
          "data": {
            "text/plain": [
              "tensor([0., 0., 0.])"
            ]
          },
          "metadata": {
            "tags": []
          },
          "execution_count": 14
        }
      ]
    },
    {
      "cell_type": "markdown",
      "metadata": {
        "id": "D2IP_FrKYKAA"
      },
      "source": [
        "### Задача 2"
      ]
    },
    {
      "cell_type": "markdown",
      "metadata": {
        "id": "tBZFbSYQYKAA"
      },
      "source": [
        "1). Создайте два вещественных тензора: `a` размером (5, 2) и `b` размером (1,10)   \n",
        "2). Создайте тензор `c`, являющийся тензором `b`, но размера (5, 2)  \n",
        "3). Произведите все арифметические операции с тензорами `a` и `c`"
      ]
    },
    {
      "cell_type": "code",
      "metadata": {
        "id": "hzs2bH3GYKAB",
        "colab": {
          "base_uri": "https://localhost:8080/"
        },
        "outputId": "7cb87790-4c9e-4727-e167-fdf1432b2fe9"
      },
      "source": [
        "# 1\n",
        "a = torch.zeros([5, 2]).float()\n",
        "b = torch.zeros([1, 10]).float()\n",
        "\n",
        "# 2\n",
        "c = b.reshape(5, 2)\n",
        "\n",
        "# 3\n",
        "a * 4\n",
        "a / 4\n",
        "a % 4\n",
        "a + 4\n",
        "a - 4"
      ],
      "execution_count": null,
      "outputs": [
        {
          "output_type": "execute_result",
          "data": {
            "text/plain": [
              "tensor([[-4., -4.],\n",
              "        [-4., -4.],\n",
              "        [-4., -4.],\n",
              "        [-4., -4.],\n",
              "        [-4., -4.]])"
            ]
          },
          "metadata": {
            "tags": []
          },
          "execution_count": 16
        }
      ]
    },
    {
      "cell_type": "markdown",
      "metadata": {
        "id": "rIaroFO6YKBT"
      },
      "source": [
        "### Задача 3"
      ]
    },
    {
      "cell_type": "markdown",
      "metadata": {
        "id": "GfLHVvKvYKBT"
      },
      "source": [
        "1). Создайте тензор *целых чисел* `images` размерности (100, 200, 200, 3) (можно интерпретировать это как 100 картинок размера 200х200 с тремя цветовыми каналами, то есть 100 цветных изображений 200х200). Заполните его нулями  \n",
        "\n",
        "2). Сделайте так, чтобы у $i$-ой по порядку картинки была нарисована белая полоса толщиной два пикселя в строках, которые соответствуют номеру картинки. Например, у 3-ей по порядку картинки белая полоска будет занимать 6 и 7 строки, у 99 - 198 и 199. Сделать белую строку можно, записав в ячейки тензора число 255 (по всем трём каналам). Выведите несколько примеров с помощью `pylot`  \n",
        "\n",
        "3). Посчитайте среднее тензора `images` по 1-ой оси (по сути - средняя картинка), умножьте полученный тензор на 70. Нарисуйте с помощью `pyplot`, должна получиться серая картинка (при взятии среднего нужно привести тензор к float с помощью `.float()`, при отрисовке обратно к int с помощью `.int()`)"
      ]
    },
    {
      "cell_type": "code",
      "metadata": {
        "id": "pZVGHEQQYKBU"
      },
      "source": [
        "# 1\n",
        "images = torch.zeros(100, 200, 200, 3)\n",
        "\n",
        "# 2\n",
        "for i in range(0, len(images)):\n",
        "  images[i][i*2] = torch.empty(200, 3).fill_(255)\n",
        "  images[i][i*2+1] = torch.empty(200, 3).fill_(255)"
      ],
      "execution_count": null,
      "outputs": []
    },
    {
      "cell_type": "code",
      "metadata": {
        "colab": {
          "base_uri": "https://localhost:8080/",
          "height": 559
        },
        "id": "c60cuhmcqDLF",
        "outputId": "e10e83e7-7154-4408-d8b0-84c337bd5771"
      },
      "source": [
        "plt.imshow(images[89])\n",
        "plt.show()\n",
        "\n",
        "plt.imshow(images[34])\n",
        "plt.show()"
      ],
      "execution_count": null,
      "outputs": [
        {
          "output_type": "stream",
          "text": [
            "Clipping input data to the valid range for imshow with RGB data ([0..1] for floats or [0..255] for integers).\n"
          ],
          "name": "stderr"
        },
        {
          "output_type": "display_data",
          "data": {
            "image/png": "[encoded data removed]",
            "text/plain": [
              "<Figure size 432x288 with 1 Axes>"
            ]
          },
          "metadata": {
            "tags": [],
            "needs_background": "light"
          }
        },
        {
          "output_type": "stream",
          "text": [
            "Clipping input data to the valid range for imshow with RGB data ([0..1] for floats or [0..255] for integers).\n"
          ],
          "name": "stderr"
        },
        {
          "output_type": "display_data",
          "data": {
            "image/png": "[encoded data removed]",
            "text/plain": [
              "<Figure size 432x288 with 1 Axes>"
            ]
          },
          "metadata": {
            "tags": [],
            "needs_background": "light"
          }
        }
      ]
    },
    {
      "cell_type": "code",
      "metadata": {
        "colab": {
          "base_uri": "https://localhost:8080/",
          "height": 269
        },
        "id": "yLnd2ihYqTQA",
        "outputId": "f948bf9c-2966-49e7-feb1-481e7399e4d2"
      },
      "source": [
        "# 3\n",
        "\n",
        "plt.imshow((images.float().mean(0) * 70).int())\n",
        "plt.show()"
      ],
      "execution_count": null,
      "outputs": [
        {
          "output_type": "display_data",
          "data": {
            "image/png": "[encoded data removed]",
            "text/plain": [
              "<Figure size 432x288 with 1 Axes>"
            ]
          },
          "metadata": {
            "tags": [],
            "needs_background": "light"
          }
        }
      ]
    },
    {
      "cell_type": "markdown",
      "metadata": {
        "id": "oQnhq5ZdYKCu"
      },
      "source": [
        "### Задача 4"
      ]
    },
    {
      "cell_type": "markdown",
      "metadata": {
        "id": "UB95BhgTYKCu"
      },
      "source": [
        "- В Colab нажмите в меню сверху: `Runtime` -> `Change Runtime Type` -> `GPU`, где изначально стоит `None` (`Среда выполнение` - `Сменить среду выполнения`)\n",
        "- Объявите тензор `a` размера (2, 3, 4) и тензор `b` размера (1, 8, 3) на GPU, иницилизируйте их случайно равномерно (`.uniform_()`)\n",
        "- Затем измените форму тензора `b`, чтобы она совпадала с формой тензора `a`, получите тензор `c`  \n",
        "- Переместите `c` на CPU, переместите `a` на CPU  \n",
        "- Оберните их в `Variable()`\n",
        "- Объявите тензор `L = torch.mean((c - a) `**` 2)` и посчитайте градиент `L` по `c` ( то есть $\\frac{\\partial{L}}{\\partial{c}})$\n",
        "- Выведите градиент `L` по `c`"
      ]
    },
    {
      "cell_type": "code",
      "metadata": {
        "id": "WESOm5TCYKCv",
        "colab": {
          "base_uri": "https://localhost:8080/"
        },
        "outputId": "728b3f77-761d-4090-9079-faee17f756a2"
      },
      "source": [
        "a = torch.empty(2, 3, 4).uniform_()\n",
        "b = torch.empty(1, 8, 3).uniform_()\n",
        "\n",
        "c = b.reshape(2, 3, 4)\n",
        "\n",
        "c = c.cpu()\n",
        "a = a.cpu()\n",
        "\n",
        "a = torch.autograd.Variable(torch.FloatTensor(a), requires_grad=False)\n",
        "c = torch.autograd.Variable(torch.FloatTensor(c), requires_grad=True)\n",
        "\n",
        "L = torch.mean((c - a)**2)\n",
        "d = torch.autograd.grad(outputs=L, inputs=c)\n",
        "print(d)"
      ],
      "execution_count": null,
      "outputs": [
        {
          "output_type": "stream",
          "text": [
            "(tensor([[[ 0.0605,  0.0207,  0.0685,  0.0438],\n",
            "         [-0.0006, -0.0554,  0.0232,  0.0435],\n",
            "         [-0.0473,  0.0503, -0.0022, -0.0225]],\n",
            "\n",
            "        [[ 0.0139,  0.0500,  0.0116,  0.0332],\n",
            "         [-0.0024, -0.0278,  0.0783, -0.0580],\n",
            "         [-0.0441,  0.0200,  0.0171, -0.0460]]]),)\n"
          ],
          "name": "stdout"
        }
      ]
    }
  ]
}